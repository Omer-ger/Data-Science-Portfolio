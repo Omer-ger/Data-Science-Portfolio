{
 "cells": [
  {
   "cell_type": "code",
   "execution_count": 344,
   "metadata": {},
   "outputs": [],
   "source": [
    "import pandas as pd\n",
    "import numpy as np\n",
    "import matplotlib.pyplot as plt\n",
    "import seaborn as sns\n",
    "%matplotlib inline\n",
    "sns.set_style('white')\n",
    "pd.set_option('display.float_format', lambda x: f'{x:,.3f}')"
   ]
  },
  {
   "cell_type": "code",
   "execution_count": 345,
   "metadata": {},
   "outputs": [
    {
     "data": {
      "text/html": [
       "<div>\n",
       "<style scoped>\n",
       "    .dataframe tbody tr th:only-of-type {\n",
       "        vertical-align: middle;\n",
       "    }\n",
       "\n",
       "    .dataframe tbody tr th {\n",
       "        vertical-align: top;\n",
       "    }\n",
       "\n",
       "    .dataframe thead th {\n",
       "        text-align: right;\n",
       "    }\n",
       "</style>\n",
       "<table border=\"1\" class=\"dataframe\">\n",
       "  <thead>\n",
       "    <tr style=\"text-align: right;\">\n",
       "      <th></th>\n",
       "      <th>id</th>\n",
       "      <th>belongs_to_collection</th>\n",
       "      <th>budget</th>\n",
       "      <th>genres</th>\n",
       "      <th>homepage</th>\n",
       "      <th>imdb_id</th>\n",
       "      <th>original_language</th>\n",
       "      <th>original_title</th>\n",
       "      <th>overview</th>\n",
       "      <th>popularity</th>\n",
       "      <th>...</th>\n",
       "      <th>release_date</th>\n",
       "      <th>runtime</th>\n",
       "      <th>spoken_languages</th>\n",
       "      <th>status</th>\n",
       "      <th>tagline</th>\n",
       "      <th>title</th>\n",
       "      <th>Keywords</th>\n",
       "      <th>cast</th>\n",
       "      <th>crew</th>\n",
       "      <th>revenue</th>\n",
       "    </tr>\n",
       "  </thead>\n",
       "  <tbody>\n",
       "    <tr>\n",
       "      <th>0</th>\n",
       "      <td>1</td>\n",
       "      <td>[{'id': 313576, 'name': 'Hot Tub Time Machine ...</td>\n",
       "      <td>14000000</td>\n",
       "      <td>[{'id': 35, 'name': 'Comedy'}]</td>\n",
       "      <td>NaN</td>\n",
       "      <td>tt2637294</td>\n",
       "      <td>en</td>\n",
       "      <td>Hot Tub Time Machine 2</td>\n",
       "      <td>When Lou, who has become the \"father of the In...</td>\n",
       "      <td>6.575</td>\n",
       "      <td>...</td>\n",
       "      <td>2/20/15</td>\n",
       "      <td>93.000</td>\n",
       "      <td>[{'iso_639_1': 'en', 'name': 'English'}]</td>\n",
       "      <td>Released</td>\n",
       "      <td>The Laws of Space and Time are About to be Vio...</td>\n",
       "      <td>Hot Tub Time Machine 2</td>\n",
       "      <td>[{'id': 4379, 'name': 'time travel'}, {'id': 9...</td>\n",
       "      <td>[{'cast_id': 4, 'character': 'Lou', 'credit_id...</td>\n",
       "      <td>[{'credit_id': '59ac067c92514107af02c8c8', 'de...</td>\n",
       "      <td>12314651</td>\n",
       "    </tr>\n",
       "    <tr>\n",
       "      <th>1</th>\n",
       "      <td>2</td>\n",
       "      <td>[{'id': 107674, 'name': 'The Princess Diaries ...</td>\n",
       "      <td>40000000</td>\n",
       "      <td>[{'id': 35, 'name': 'Comedy'}, {'id': 18, 'nam...</td>\n",
       "      <td>NaN</td>\n",
       "      <td>tt0368933</td>\n",
       "      <td>en</td>\n",
       "      <td>The Princess Diaries 2: Royal Engagement</td>\n",
       "      <td>Mia Thermopolis is now a college graduate and ...</td>\n",
       "      <td>8.249</td>\n",
       "      <td>...</td>\n",
       "      <td>8/6/04</td>\n",
       "      <td>113.000</td>\n",
       "      <td>[{'iso_639_1': 'en', 'name': 'English'}]</td>\n",
       "      <td>Released</td>\n",
       "      <td>It can take a lifetime to find true love; she'...</td>\n",
       "      <td>The Princess Diaries 2: Royal Engagement</td>\n",
       "      <td>[{'id': 2505, 'name': 'coronation'}, {'id': 42...</td>\n",
       "      <td>[{'cast_id': 1, 'character': 'Mia Thermopolis'...</td>\n",
       "      <td>[{'credit_id': '52fe43fe9251416c7502563d', 'de...</td>\n",
       "      <td>95149435</td>\n",
       "    </tr>\n",
       "    <tr>\n",
       "      <th>2</th>\n",
       "      <td>3</td>\n",
       "      <td>NaN</td>\n",
       "      <td>3300000</td>\n",
       "      <td>[{'id': 18, 'name': 'Drama'}]</td>\n",
       "      <td>http://sonyclassics.com/whiplash/</td>\n",
       "      <td>tt2582802</td>\n",
       "      <td>en</td>\n",
       "      <td>Whiplash</td>\n",
       "      <td>Under the direction of a ruthless instructor, ...</td>\n",
       "      <td>64.300</td>\n",
       "      <td>...</td>\n",
       "      <td>10/10/14</td>\n",
       "      <td>105.000</td>\n",
       "      <td>[{'iso_639_1': 'en', 'name': 'English'}]</td>\n",
       "      <td>Released</td>\n",
       "      <td>The road to greatness can take you to the edge.</td>\n",
       "      <td>Whiplash</td>\n",
       "      <td>[{'id': 1416, 'name': 'jazz'}, {'id': 1523, 'n...</td>\n",
       "      <td>[{'cast_id': 5, 'character': 'Andrew Neimann',...</td>\n",
       "      <td>[{'credit_id': '54d5356ec3a3683ba0000039', 'de...</td>\n",
       "      <td>13092000</td>\n",
       "    </tr>\n",
       "    <tr>\n",
       "      <th>3</th>\n",
       "      <td>4</td>\n",
       "      <td>NaN</td>\n",
       "      <td>1200000</td>\n",
       "      <td>[{'id': 53, 'name': 'Thriller'}, {'id': 18, 'n...</td>\n",
       "      <td>http://kahaanithefilm.com/</td>\n",
       "      <td>tt1821480</td>\n",
       "      <td>hi</td>\n",
       "      <td>Kahaani</td>\n",
       "      <td>Vidya Bagchi (Vidya Balan) arrives in Kolkata ...</td>\n",
       "      <td>3.175</td>\n",
       "      <td>...</td>\n",
       "      <td>3/9/12</td>\n",
       "      <td>122.000</td>\n",
       "      <td>[{'iso_639_1': 'en', 'name': 'English'}, {'iso...</td>\n",
       "      <td>Released</td>\n",
       "      <td>NaN</td>\n",
       "      <td>Kahaani</td>\n",
       "      <td>[{'id': 10092, 'name': 'mystery'}, {'id': 1054...</td>\n",
       "      <td>[{'cast_id': 1, 'character': 'Vidya Bagchi', '...</td>\n",
       "      <td>[{'credit_id': '52fe48779251416c9108d6eb', 'de...</td>\n",
       "      <td>16000000</td>\n",
       "    </tr>\n",
       "    <tr>\n",
       "      <th>4</th>\n",
       "      <td>5</td>\n",
       "      <td>NaN</td>\n",
       "      <td>0</td>\n",
       "      <td>[{'id': 28, 'name': 'Action'}, {'id': 53, 'nam...</td>\n",
       "      <td>NaN</td>\n",
       "      <td>tt1380152</td>\n",
       "      <td>ko</td>\n",
       "      <td>마린보이</td>\n",
       "      <td>Marine Boy is the story of a former national s...</td>\n",
       "      <td>1.148</td>\n",
       "      <td>...</td>\n",
       "      <td>2/5/09</td>\n",
       "      <td>118.000</td>\n",
       "      <td>[{'iso_639_1': 'ko', 'name': '한국어/조선말'}]</td>\n",
       "      <td>Released</td>\n",
       "      <td>NaN</td>\n",
       "      <td>Marine Boy</td>\n",
       "      <td>NaN</td>\n",
       "      <td>[{'cast_id': 3, 'character': 'Chun-soo', 'cred...</td>\n",
       "      <td>[{'credit_id': '52fe464b9251416c75073b43', 'de...</td>\n",
       "      <td>3923970</td>\n",
       "    </tr>\n",
       "  </tbody>\n",
       "</table>\n",
       "<p>5 rows × 23 columns</p>\n",
       "</div>"
      ],
      "text/plain": [
       "   id                              belongs_to_collection    budget  \\\n",
       "0   1  [{'id': 313576, 'name': 'Hot Tub Time Machine ...  14000000   \n",
       "1   2  [{'id': 107674, 'name': 'The Princess Diaries ...  40000000   \n",
       "2   3                                                NaN   3300000   \n",
       "3   4                                                NaN   1200000   \n",
       "4   5                                                NaN         0   \n",
       "\n",
       "                                              genres  \\\n",
       "0                     [{'id': 35, 'name': 'Comedy'}]   \n",
       "1  [{'id': 35, 'name': 'Comedy'}, {'id': 18, 'nam...   \n",
       "2                      [{'id': 18, 'name': 'Drama'}]   \n",
       "3  [{'id': 53, 'name': 'Thriller'}, {'id': 18, 'n...   \n",
       "4  [{'id': 28, 'name': 'Action'}, {'id': 53, 'nam...   \n",
       "\n",
       "                            homepage    imdb_id original_language  \\\n",
       "0                                NaN  tt2637294                en   \n",
       "1                                NaN  tt0368933                en   \n",
       "2  http://sonyclassics.com/whiplash/  tt2582802                en   \n",
       "3         http://kahaanithefilm.com/  tt1821480                hi   \n",
       "4                                NaN  tt1380152                ko   \n",
       "\n",
       "                             original_title  \\\n",
       "0                    Hot Tub Time Machine 2   \n",
       "1  The Princess Diaries 2: Royal Engagement   \n",
       "2                                  Whiplash   \n",
       "3                                   Kahaani   \n",
       "4                                      마린보이   \n",
       "\n",
       "                                            overview  popularity  ...  \\\n",
       "0  When Lou, who has become the \"father of the In...       6.575  ...   \n",
       "1  Mia Thermopolis is now a college graduate and ...       8.249  ...   \n",
       "2  Under the direction of a ruthless instructor, ...      64.300  ...   \n",
       "3  Vidya Bagchi (Vidya Balan) arrives in Kolkata ...       3.175  ...   \n",
       "4  Marine Boy is the story of a former national s...       1.148  ...   \n",
       "\n",
       "  release_date runtime                                   spoken_languages  \\\n",
       "0      2/20/15  93.000           [{'iso_639_1': 'en', 'name': 'English'}]   \n",
       "1       8/6/04 113.000           [{'iso_639_1': 'en', 'name': 'English'}]   \n",
       "2     10/10/14 105.000           [{'iso_639_1': 'en', 'name': 'English'}]   \n",
       "3       3/9/12 122.000  [{'iso_639_1': 'en', 'name': 'English'}, {'iso...   \n",
       "4       2/5/09 118.000           [{'iso_639_1': 'ko', 'name': '한국어/조선말'}]   \n",
       "\n",
       "     status                                            tagline  \\\n",
       "0  Released  The Laws of Space and Time are About to be Vio...   \n",
       "1  Released  It can take a lifetime to find true love; she'...   \n",
       "2  Released    The road to greatness can take you to the edge.   \n",
       "3  Released                                                NaN   \n",
       "4  Released                                                NaN   \n",
       "\n",
       "                                      title  \\\n",
       "0                    Hot Tub Time Machine 2   \n",
       "1  The Princess Diaries 2: Royal Engagement   \n",
       "2                                  Whiplash   \n",
       "3                                   Kahaani   \n",
       "4                                Marine Boy   \n",
       "\n",
       "                                            Keywords  \\\n",
       "0  [{'id': 4379, 'name': 'time travel'}, {'id': 9...   \n",
       "1  [{'id': 2505, 'name': 'coronation'}, {'id': 42...   \n",
       "2  [{'id': 1416, 'name': 'jazz'}, {'id': 1523, 'n...   \n",
       "3  [{'id': 10092, 'name': 'mystery'}, {'id': 1054...   \n",
       "4                                                NaN   \n",
       "\n",
       "                                                cast  \\\n",
       "0  [{'cast_id': 4, 'character': 'Lou', 'credit_id...   \n",
       "1  [{'cast_id': 1, 'character': 'Mia Thermopolis'...   \n",
       "2  [{'cast_id': 5, 'character': 'Andrew Neimann',...   \n",
       "3  [{'cast_id': 1, 'character': 'Vidya Bagchi', '...   \n",
       "4  [{'cast_id': 3, 'character': 'Chun-soo', 'cred...   \n",
       "\n",
       "                                                crew   revenue  \n",
       "0  [{'credit_id': '59ac067c92514107af02c8c8', 'de...  12314651  \n",
       "1  [{'credit_id': '52fe43fe9251416c7502563d', 'de...  95149435  \n",
       "2  [{'credit_id': '54d5356ec3a3683ba0000039', 'de...  13092000  \n",
       "3  [{'credit_id': '52fe48779251416c9108d6eb', 'de...  16000000  \n",
       "4  [{'credit_id': '52fe464b9251416c75073b43', 'de...   3923970  \n",
       "\n",
       "[5 rows x 23 columns]"
      ]
     },
     "execution_count": 345,
     "metadata": {},
     "output_type": "execute_result"
    }
   ],
   "source": [
    "train = pd.read_csv(r'C:\\Users\\omer\\Desktop\\Kaggle\\movies\\train.csv')\n",
    "train.head()"
   ]
  },
  {
   "cell_type": "code",
   "execution_count": 346,
   "metadata": {},
   "outputs": [
    {
     "name": "stdout",
     "output_type": "stream",
     "text": [
      "(3000, 23)\n",
      "<class 'pandas.core.frame.DataFrame'>\n",
      "RangeIndex: 3000 entries, 0 to 2999\n",
      "Data columns (total 23 columns):\n",
      " #   Column                 Non-Null Count  Dtype  \n",
      "---  ------                 --------------  -----  \n",
      " 0   id                     3000 non-null   int64  \n",
      " 1   belongs_to_collection  604 non-null    object \n",
      " 2   budget                 3000 non-null   int64  \n",
      " 3   genres                 2993 non-null   object \n",
      " 4   homepage               946 non-null    object \n",
      " 5   imdb_id                3000 non-null   object \n",
      " 6   original_language      3000 non-null   object \n",
      " 7   original_title         3000 non-null   object \n",
      " 8   overview               2992 non-null   object \n",
      " 9   popularity             3000 non-null   float64\n",
      " 10  poster_path            2999 non-null   object \n",
      " 11  production_companies   2844 non-null   object \n",
      " 12  production_countries   2945 non-null   object \n",
      " 13  release_date           3000 non-null   object \n",
      " 14  runtime                2998 non-null   float64\n",
      " 15  spoken_languages       2980 non-null   object \n",
      " 16  status                 3000 non-null   object \n",
      " 17  tagline                2403 non-null   object \n",
      " 18  title                  3000 non-null   object \n",
      " 19  Keywords               2724 non-null   object \n",
      " 20  cast                   2987 non-null   object \n",
      " 21  crew                   2984 non-null   object \n",
      " 22  revenue                3000 non-null   int64  \n",
      "dtypes: float64(2), int64(3), object(18)\n",
      "memory usage: 539.2+ KB\n",
      "None\n"
     ]
    }
   ],
   "source": [
    "print(train.shape)\n",
    "print(train.info())"
   ]
  },
  {
   "cell_type": "markdown",
   "metadata": {},
   "source": [
    "## Remove columns I'm not likely to use. Perhaps check them again later."
   ]
  },
  {
   "cell_type": "code",
   "execution_count": 347,
   "metadata": {},
   "outputs": [],
   "source": [
    "columns_to_delete = ['id','imdb_id','overview','original_title','spoken_languages','poster_path','status','tagline','crew','title']\n",
    "train = train.drop(columns_to_delete,axis=1)"
   ]
  },
  {
   "cell_type": "markdown",
   "metadata": {},
   "source": [
    "## Check for missing values"
   ]
  },
  {
   "cell_type": "code",
   "execution_count": 348,
   "metadata": {},
   "outputs": [
    {
     "data": {
      "text/plain": [
       "belongs_to_collection    2396\n",
       "homepage                 2054\n",
       "Keywords                  276\n",
       "production_companies      156\n",
       "production_countries       55\n",
       "cast                       13\n",
       "genres                      7\n",
       "runtime                     2\n",
       "revenue                     0\n",
       "release_date                0\n",
       "popularity                  0\n",
       "original_language           0\n",
       "budget                      0\n",
       "dtype: int64"
      ]
     },
     "execution_count": 348,
     "metadata": {},
     "output_type": "execute_result"
    }
   ],
   "source": [
    "train.isnull().sum().sort_values(ascending=False)"
   ]
  },
  {
   "cell_type": "markdown",
   "metadata": {},
   "source": [
    "# Explore target variable"
   ]
  },
  {
   "cell_type": "code",
   "execution_count": 349,
   "metadata": {
    "scrolled": true
   },
   "outputs": [
    {
     "name": "stdout",
     "output_type": "stream",
     "text": [
      "count           3,000.000\n",
      "mean       66,725,851.889\n",
      "std       137,532,326.336\n",
      "min                 1.000\n",
      "25%         2,379,808.250\n",
      "50%        16,807,068.000\n",
      "75%        68,919,203.500\n",
      "max     1,519,557,910.000\n",
      "Name: revenue, dtype: float64 \n",
      "\n",
      "skew:  4.542285301660683\n",
      "kurtosis:  27.78254883576798\n"
     ]
    },
    {
     "data": {
      "text/plain": [
       "<matplotlib.axes._subplots.AxesSubplot at 0x242aa848>"
      ]
     },
     "execution_count": 349,
     "metadata": {},
     "output_type": "execute_result"
    },
    {
     "data": {
      "image/png": "[encoded data removed]",
      "text/plain": [
       "<Figure size 432x288 with 1 Axes>"
      ]
     },
     "metadata": {},
     "output_type": "display_data"
    }
   ],
   "source": [
    "from scipy.stats import norm\n",
    "\n",
    "print(train['revenue'].describe(),'\\n')\n",
    "print('skew: ',train['revenue'].skew())\n",
    "print('kurtosis: ',train['revenue'].kurtosis())\n",
    "\n",
    "sns.distplot(train['revenue'],fit=norm)"
   ]
  },
  {
   "cell_type": "markdown",
   "metadata": {},
   "source": [
    "The target's distribution is far from normal. Trying log transformation."
   ]
  },
  {
   "cell_type": "code",
   "execution_count": 350,
   "metadata": {},
   "outputs": [
    {
     "name": "stdout",
     "output_type": "stream",
     "text": [
      "count   3,000.000\n",
      "mean       15.960\n",
      "std         3.071\n",
      "min         0.000\n",
      "25%        14.683\n",
      "50%        16.637\n",
      "75%        18.048\n",
      "max        21.142\n",
      "Name: revenue, dtype: float64 \n",
      "\n",
      "skew:  -1.6793767052948028\n",
      "kurtosis:  4.3710740703449\n"
     ]
    },
    {
     "data": {
      "text/plain": [
       "<matplotlib.axes._subplots.AxesSubplot at 0x26cc45c8>"
      ]
     },
     "execution_count": 350,
     "metadata": {},
     "output_type": "execute_result"
    },
    {
     "data": {
      "image/png": "[encoded data removed]",
      "text/plain": [
       "<Figure size 432x288 with 1 Axes>"
      ]
     },
     "metadata": {},
     "output_type": "display_data"
    }
   ],
   "source": [
    "train['revenue'] = np.log(train['revenue'])\n",
    "\n",
    "print(train['revenue'].describe(),'\\n')\n",
    "print('skew: ',train['revenue'].skew())\n",
    "print('kurtosis: ',train['revenue'].kurtosis())\n",
    "\n",
    "sns.distplot(train['revenue'],fit=norm)"
   ]
  },
  {
   "cell_type": "markdown",
   "metadata": {},
   "source": [
    "Not perfect but better."
   ]
  },
  {
   "cell_type": "markdown",
   "metadata": {},
   "source": [
    "# Feature exploration and engineering"
   ]
  },
  {
   "cell_type": "markdown",
   "metadata": {},
   "source": [
    "## homepage\n",
    "There are lots of missing values and the adresses themselves are meaningless.\n",
    "recode into \"has_homepage\" (yes/no)."
   ]
  },
  {
   "cell_type": "code",
   "execution_count": 351,
   "metadata": {},
   "outputs": [],
   "source": [
    "train['homepage'].fillna('0',inplace=True)\n",
    "train['has_homepage'] = train['homepage'].apply(lambda x: 0 if x=='0' else 1)\n",
    "train = train.drop('homepage',axis=1)"
   ]
  },
  {
   "cell_type": "code",
   "execution_count": 352,
   "metadata": {},
   "outputs": [
    {
     "name": "stdout",
     "output_type": "stream",
     "text": [
      "has_homepage\n",
      "0   15.662\n",
      "1   16.606\n",
      "Name: revenue, dtype: float64\n"
     ]
    },
    {
     "data": {
      "text/plain": [
       "<matplotlib.axes._subplots.AxesSubplot at 0x29124488>"
      ]
     },
     "execution_count": 352,
     "metadata": {},
     "output_type": "execute_result"
    },
    {
     "data": {
      "image/png": "[encoded data removed]",
      "text/plain": [
       "<Figure size 432x288 with 1 Axes>"
      ]
     },
     "metadata": {},
     "output_type": "display_data"
    }
   ],
   "source": [
    "print(train.groupby('has_homepage')['revenue'].mean())\n",
    "sns.boxplot(data=train,x='has_homepage',y='revenue')"
   ]
  },
  {
   "cell_type": "markdown",
   "metadata": {},
   "source": [
    "Small difference but we'll keep it for now."
   ]
  },
  {
   "cell_type": "markdown",
   "metadata": {},
   "source": [
    "# belongs_to_collection\n",
    "Again, lots of missing values. Convert to binary as well. "
   ]
  },
  {
   "cell_type": "code",
   "execution_count": 353,
   "metadata": {},
   "outputs": [],
   "source": [
    "train['belongs_to_collection'].fillna('0',inplace=True)\n",
    "train['belongs_to_collection'] = train['belongs_to_collection'].apply(lambda x: 0 if x=='0' else 1)"
   ]
  },
  {
   "cell_type": "code",
   "execution_count": 354,
   "metadata": {},
   "outputs": [
    {
     "name": "stdout",
     "output_type": "stream",
     "text": [
      "belongs_to_collection\n",
      "0   15.565\n",
      "1   17.525\n",
      "Name: revenue, dtype: float64\n"
     ]
    },
    {
     "data": {
      "text/plain": [
       "<matplotlib.axes._subplots.AxesSubplot at 0x24242388>"
      ]
     },
     "execution_count": 354,
     "metadata": {},
     "output_type": "execute_result"
    },
    {
     "data": {
      "image/png": "[encoded data removed]",
      "text/plain": [
       "<Figure size 432x288 with 1 Axes>"
      ]
     },
     "metadata": {},
     "output_type": "display_data"
    }
   ],
   "source": [
    "print(train.groupby('belongs_to_collection')['revenue'].mean())\n",
    "sns.boxplot(data=train,x='belongs_to_collection',y='revenue')"
   ]
  },
  {
   "cell_type": "markdown",
   "metadata": {},
   "source": [
    "# genres\n",
    "The data is not in convenient format.\n",
    "Need to separate to the different possible genres.\n",
    "Since each movie can belong to mutiple genres, the result would be a matrix."
   ]
  },
  {
   "cell_type": "code",
   "execution_count": 355,
   "metadata": {},
   "outputs": [
    {
     "data": {
      "text/html": [
       "<div>\n",
       "<style scoped>\n",
       "    .dataframe tbody tr th:only-of-type {\n",
       "        vertical-align: middle;\n",
       "    }\n",
       "\n",
       "    .dataframe tbody tr th {\n",
       "        vertical-align: top;\n",
       "    }\n",
       "\n",
       "    .dataframe thead th {\n",
       "        text-align: right;\n",
       "    }\n",
       "</style>\n",
       "<table border=\"1\" class=\"dataframe\">\n",
       "  <thead>\n",
       "    <tr style=\"text-align: right;\">\n",
       "      <th></th>\n",
       "      <th>id</th>\n",
       "      <th>name</th>\n",
       "    </tr>\n",
       "  </thead>\n",
       "  <tbody>\n",
       "    <tr>\n",
       "      <th>0</th>\n",
       "      <td>35</td>\n",
       "      <td>Comedy</td>\n",
       "    </tr>\n",
       "    <tr>\n",
       "      <th>1</th>\n",
       "      <td>18</td>\n",
       "      <td>Drama</td>\n",
       "    </tr>\n",
       "    <tr>\n",
       "      <th>2</th>\n",
       "      <td>10751</td>\n",
       "      <td>Family</td>\n",
       "    </tr>\n",
       "    <tr>\n",
       "      <th>3</th>\n",
       "      <td>10749</td>\n",
       "      <td>Romance</td>\n",
       "    </tr>\n",
       "  </tbody>\n",
       "</table>\n",
       "</div>"
      ],
      "text/plain": [
       "      id     name\n",
       "0     35   Comedy\n",
       "1     18    Drama\n",
       "2  10751   Family\n",
       "3  10749  Romance"
      ]
     },
     "execution_count": 355,
     "metadata": {},
     "output_type": "execute_result"
    }
   ],
   "source": [
    "import ast\n",
    "def split_to_df(str_cell):\n",
    "# gets a string of a dictionary inside [], like the cells in this data.\n",
    "# returns a dataframe for this dictionary \n",
    "    str_eval = ast.literal_eval(str_cell.replace('[','').replace(']',''))\n",
    "    return pd.DataFrame(str_eval,index=np.arange(len(str_eval))).drop_duplicates()\n",
    "\n",
    "split_to_df(train.loc[1,'genres'])"
   ]
  },
  {
   "cell_type": "markdown",
   "metadata": {},
   "source": [
    "Now apply \"split_to_df\" to each cell in 'genres' columns, add movie index columns, and concatenate them.\n",
    "The results is a dataframe where each movie has a row for each genre it belongs to. \n",
    "\n",
    "But first we need to fill missing values with the correct pattern (in this case: \"[{'id': 0, 'name': 'missing'}]\")"
   ]
  },
  {
   "cell_type": "code",
   "execution_count": 356,
   "metadata": {},
   "outputs": [
    {
     "data": {
      "text/html": [
       "<div>\n",
       "<style scoped>\n",
       "    .dataframe tbody tr th:only-of-type {\n",
       "        vertical-align: middle;\n",
       "    }\n",
       "\n",
       "    .dataframe tbody tr th {\n",
       "        vertical-align: top;\n",
       "    }\n",
       "\n",
       "    .dataframe thead th {\n",
       "        text-align: right;\n",
       "    }\n",
       "</style>\n",
       "<table border=\"1\" class=\"dataframe\">\n",
       "  <thead>\n",
       "    <tr style=\"text-align: right;\">\n",
       "      <th></th>\n",
       "      <th>id</th>\n",
       "      <th>name</th>\n",
       "      <th>movie</th>\n",
       "    </tr>\n",
       "  </thead>\n",
       "  <tbody>\n",
       "    <tr>\n",
       "      <th>0</th>\n",
       "      <td>35</td>\n",
       "      <td>Comedy</td>\n",
       "      <td>0</td>\n",
       "    </tr>\n",
       "    <tr>\n",
       "      <th>0</th>\n",
       "      <td>35</td>\n",
       "      <td>Comedy</td>\n",
       "      <td>1</td>\n",
       "    </tr>\n",
       "    <tr>\n",
       "      <th>1</th>\n",
       "      <td>18</td>\n",
       "      <td>Drama</td>\n",
       "      <td>1</td>\n",
       "    </tr>\n",
       "    <tr>\n",
       "      <th>2</th>\n",
       "      <td>10751</td>\n",
       "      <td>Family</td>\n",
       "      <td>1</td>\n",
       "    </tr>\n",
       "    <tr>\n",
       "      <th>3</th>\n",
       "      <td>10749</td>\n",
       "      <td>Romance</td>\n",
       "      <td>1</td>\n",
       "    </tr>\n",
       "    <tr>\n",
       "      <th>0</th>\n",
       "      <td>18</td>\n",
       "      <td>Drama</td>\n",
       "      <td>2</td>\n",
       "    </tr>\n",
       "    <tr>\n",
       "      <th>0</th>\n",
       "      <td>53</td>\n",
       "      <td>Thriller</td>\n",
       "      <td>3</td>\n",
       "    </tr>\n",
       "    <tr>\n",
       "      <th>1</th>\n",
       "      <td>18</td>\n",
       "      <td>Drama</td>\n",
       "      <td>3</td>\n",
       "    </tr>\n",
       "    <tr>\n",
       "      <th>0</th>\n",
       "      <td>28</td>\n",
       "      <td>Action</td>\n",
       "      <td>4</td>\n",
       "    </tr>\n",
       "    <tr>\n",
       "      <th>1</th>\n",
       "      <td>53</td>\n",
       "      <td>Thriller</td>\n",
       "      <td>4</td>\n",
       "    </tr>\n",
       "  </tbody>\n",
       "</table>\n",
       "</div>"
      ],
      "text/plain": [
       "      id      name  movie\n",
       "0     35    Comedy      0\n",
       "0     35    Comedy      1\n",
       "1     18     Drama      1\n",
       "2  10751    Family      1\n",
       "3  10749   Romance      1\n",
       "0     18     Drama      2\n",
       "0     53  Thriller      3\n",
       "1     18     Drama      3\n",
       "0     28    Action      4\n",
       "1     53  Thriller      4"
      ]
     },
     "execution_count": 356,
     "metadata": {},
     "output_type": "execute_result"
    }
   ],
   "source": [
    "train['genres'] = train['genres'].fillna(\"[{'id': 0, 'name': 'missing'}]\")\n",
    "\n",
    "for i in range(len(train)):\n",
    "    x = split_to_df(train.loc[i,'genres'])\n",
    "    x['movie'] = i\n",
    "    if i==0:\n",
    "        y = x.copy()\n",
    "    else:\n",
    "        y = pd.concat([y,x])\n",
    "y.head(10)"
   ]
  },
  {
   "cell_type": "markdown",
   "metadata": {},
   "source": [
    "Check if there are any genres that are too isoteric to keep"
   ]
  },
  {
   "cell_type": "code",
   "execution_count": 357,
   "metadata": {},
   "outputs": [
    {
     "data": {
      "text/plain": [
       "Drama              1531\n",
       "Comedy             1028\n",
       "Thriller            789\n",
       "Action              741\n",
       "Romance             571\n",
       "Crime               469\n",
       "Adventure           439\n",
       "Horror              301\n",
       "Science Fiction     290\n",
       "Family              260\n",
       "Fantasy             232\n",
       "Mystery             225\n",
       "Animation           141\n",
       "History             132\n",
       "Music               100\n",
       "War                 100\n",
       "Documentary          87\n",
       "Western              43\n",
       "Foreign              31\n",
       "missing               7\n",
       "TV Movie              1\n",
       "Name: name, dtype: int64"
      ]
     },
     "execution_count": 357,
     "metadata": {},
     "output_type": "execute_result"
    }
   ],
   "source": [
    "y['name'].value_counts()"
   ]
  },
  {
   "cell_type": "markdown",
   "metadata": {},
   "source": [
    "We will keep all the genres except 'Western','Foreign' and 'TV Movie' (and missing of course)."
   ]
  },
  {
   "cell_type": "code",
   "execution_count": 358,
   "metadata": {},
   "outputs": [],
   "source": [
    "main_genres = ['Drama', 'Comedy', 'Thriller', 'Action', 'Romance', 'Crime',\n",
    "       'Adventure', 'Horror', 'Science Fiction', 'Family', 'Fantasy',\n",
    "       'Mystery', 'Animation', 'History', 'Music', 'War', 'Documentary']\n",
    "y['name'] = y['name'].apply(lambda x: x if x in main_genres else 'Other genre')"
   ]
  },
  {
   "cell_type": "markdown",
   "metadata": {},
   "source": [
    "Now we can use pivot_table to create the matrix we need: for each movie index, a binary column for each genre."
   ]
  },
  {
   "cell_type": "code",
   "execution_count": 359,
   "metadata": {},
   "outputs": [
    {
     "data": {
      "text/html": [
       "<div>\n",
       "<style scoped>\n",
       "    .dataframe tbody tr th:only-of-type {\n",
       "        vertical-align: middle;\n",
       "    }\n",
       "\n",
       "    .dataframe tbody tr th {\n",
       "        vertical-align: top;\n",
       "    }\n",
       "\n",
       "    .dataframe thead th {\n",
       "        text-align: right;\n",
       "    }\n",
       "</style>\n",
       "<table border=\"1\" class=\"dataframe\">\n",
       "  <thead>\n",
       "    <tr style=\"text-align: right;\">\n",
       "      <th>name</th>\n",
       "      <th>Action</th>\n",
       "      <th>Adventure</th>\n",
       "      <th>Animation</th>\n",
       "      <th>Comedy</th>\n",
       "      <th>Crime</th>\n",
       "      <th>Documentary</th>\n",
       "      <th>Drama</th>\n",
       "      <th>Family</th>\n",
       "      <th>Fantasy</th>\n",
       "      <th>History</th>\n",
       "      <th>Horror</th>\n",
       "      <th>Music</th>\n",
       "      <th>Mystery</th>\n",
       "      <th>Other genre</th>\n",
       "      <th>Romance</th>\n",
       "      <th>Science Fiction</th>\n",
       "      <th>Thriller</th>\n",
       "      <th>War</th>\n",
       "    </tr>\n",
       "    <tr>\n",
       "      <th>movie</th>\n",
       "      <th></th>\n",
       "      <th></th>\n",
       "      <th></th>\n",
       "      <th></th>\n",
       "      <th></th>\n",
       "      <th></th>\n",
       "      <th></th>\n",
       "      <th></th>\n",
       "      <th></th>\n",
       "      <th></th>\n",
       "      <th></th>\n",
       "      <th></th>\n",
       "      <th></th>\n",
       "      <th></th>\n",
       "      <th></th>\n",
       "      <th></th>\n",
       "      <th></th>\n",
       "      <th></th>\n",
       "    </tr>\n",
       "  </thead>\n",
       "  <tbody>\n",
       "    <tr>\n",
       "      <th>0</th>\n",
       "      <td>0.000</td>\n",
       "      <td>0.000</td>\n",
       "      <td>0.000</td>\n",
       "      <td>1.000</td>\n",
       "      <td>0.000</td>\n",
       "      <td>0.000</td>\n",
       "      <td>0.000</td>\n",
       "      <td>0.000</td>\n",
       "      <td>0.000</td>\n",
       "      <td>0.000</td>\n",
       "      <td>0.000</td>\n",
       "      <td>0.000</td>\n",
       "      <td>0.000</td>\n",
       "      <td>0.000</td>\n",
       "      <td>0.000</td>\n",
       "      <td>0.000</td>\n",
       "      <td>0.000</td>\n",
       "      <td>0.000</td>\n",
       "    </tr>\n",
       "    <tr>\n",
       "      <th>1</th>\n",
       "      <td>0.000</td>\n",
       "      <td>0.000</td>\n",
       "      <td>0.000</td>\n",
       "      <td>1.000</td>\n",
       "      <td>0.000</td>\n",
       "      <td>0.000</td>\n",
       "      <td>1.000</td>\n",
       "      <td>1.000</td>\n",
       "      <td>0.000</td>\n",
       "      <td>0.000</td>\n",
       "      <td>0.000</td>\n",
       "      <td>0.000</td>\n",
       "      <td>0.000</td>\n",
       "      <td>0.000</td>\n",
       "      <td>1.000</td>\n",
       "      <td>0.000</td>\n",
       "      <td>0.000</td>\n",
       "      <td>0.000</td>\n",
       "    </tr>\n",
       "    <tr>\n",
       "      <th>2</th>\n",
       "      <td>0.000</td>\n",
       "      <td>0.000</td>\n",
       "      <td>0.000</td>\n",
       "      <td>0.000</td>\n",
       "      <td>0.000</td>\n",
       "      <td>0.000</td>\n",
       "      <td>1.000</td>\n",
       "      <td>0.000</td>\n",
       "      <td>0.000</td>\n",
       "      <td>0.000</td>\n",
       "      <td>0.000</td>\n",
       "      <td>0.000</td>\n",
       "      <td>0.000</td>\n",
       "      <td>0.000</td>\n",
       "      <td>0.000</td>\n",
       "      <td>0.000</td>\n",
       "      <td>0.000</td>\n",
       "      <td>0.000</td>\n",
       "    </tr>\n",
       "    <tr>\n",
       "      <th>3</th>\n",
       "      <td>0.000</td>\n",
       "      <td>0.000</td>\n",
       "      <td>0.000</td>\n",
       "      <td>0.000</td>\n",
       "      <td>0.000</td>\n",
       "      <td>0.000</td>\n",
       "      <td>1.000</td>\n",
       "      <td>0.000</td>\n",
       "      <td>0.000</td>\n",
       "      <td>0.000</td>\n",
       "      <td>0.000</td>\n",
       "      <td>0.000</td>\n",
       "      <td>0.000</td>\n",
       "      <td>0.000</td>\n",
       "      <td>0.000</td>\n",
       "      <td>0.000</td>\n",
       "      <td>1.000</td>\n",
       "      <td>0.000</td>\n",
       "    </tr>\n",
       "    <tr>\n",
       "      <th>4</th>\n",
       "      <td>1.000</td>\n",
       "      <td>0.000</td>\n",
       "      <td>0.000</td>\n",
       "      <td>0.000</td>\n",
       "      <td>0.000</td>\n",
       "      <td>0.000</td>\n",
       "      <td>0.000</td>\n",
       "      <td>0.000</td>\n",
       "      <td>0.000</td>\n",
       "      <td>0.000</td>\n",
       "      <td>0.000</td>\n",
       "      <td>0.000</td>\n",
       "      <td>0.000</td>\n",
       "      <td>0.000</td>\n",
       "      <td>0.000</td>\n",
       "      <td>0.000</td>\n",
       "      <td>1.000</td>\n",
       "      <td>0.000</td>\n",
       "    </tr>\n",
       "    <tr>\n",
       "      <th>...</th>\n",
       "      <td>...</td>\n",
       "      <td>...</td>\n",
       "      <td>...</td>\n",
       "      <td>...</td>\n",
       "      <td>...</td>\n",
       "      <td>...</td>\n",
       "      <td>...</td>\n",
       "      <td>...</td>\n",
       "      <td>...</td>\n",
       "      <td>...</td>\n",
       "      <td>...</td>\n",
       "      <td>...</td>\n",
       "      <td>...</td>\n",
       "      <td>...</td>\n",
       "      <td>...</td>\n",
       "      <td>...</td>\n",
       "      <td>...</td>\n",
       "      <td>...</td>\n",
       "    </tr>\n",
       "    <tr>\n",
       "      <th>2995</th>\n",
       "      <td>0.000</td>\n",
       "      <td>0.000</td>\n",
       "      <td>0.000</td>\n",
       "      <td>1.000</td>\n",
       "      <td>0.000</td>\n",
       "      <td>0.000</td>\n",
       "      <td>0.000</td>\n",
       "      <td>0.000</td>\n",
       "      <td>0.000</td>\n",
       "      <td>0.000</td>\n",
       "      <td>0.000</td>\n",
       "      <td>0.000</td>\n",
       "      <td>0.000</td>\n",
       "      <td>0.000</td>\n",
       "      <td>1.000</td>\n",
       "      <td>0.000</td>\n",
       "      <td>0.000</td>\n",
       "      <td>0.000</td>\n",
       "    </tr>\n",
       "    <tr>\n",
       "      <th>2996</th>\n",
       "      <td>0.000</td>\n",
       "      <td>0.000</td>\n",
       "      <td>0.000</td>\n",
       "      <td>0.000</td>\n",
       "      <td>0.000</td>\n",
       "      <td>0.000</td>\n",
       "      <td>1.000</td>\n",
       "      <td>0.000</td>\n",
       "      <td>0.000</td>\n",
       "      <td>0.000</td>\n",
       "      <td>0.000</td>\n",
       "      <td>1.000</td>\n",
       "      <td>0.000</td>\n",
       "      <td>0.000</td>\n",
       "      <td>0.000</td>\n",
       "      <td>0.000</td>\n",
       "      <td>0.000</td>\n",
       "      <td>0.000</td>\n",
       "    </tr>\n",
       "    <tr>\n",
       "      <th>2997</th>\n",
       "      <td>1.000</td>\n",
       "      <td>0.000</td>\n",
       "      <td>0.000</td>\n",
       "      <td>0.000</td>\n",
       "      <td>1.000</td>\n",
       "      <td>0.000</td>\n",
       "      <td>0.000</td>\n",
       "      <td>0.000</td>\n",
       "      <td>0.000</td>\n",
       "      <td>0.000</td>\n",
       "      <td>0.000</td>\n",
       "      <td>0.000</td>\n",
       "      <td>1.000</td>\n",
       "      <td>0.000</td>\n",
       "      <td>0.000</td>\n",
       "      <td>0.000</td>\n",
       "      <td>1.000</td>\n",
       "      <td>0.000</td>\n",
       "    </tr>\n",
       "    <tr>\n",
       "      <th>2998</th>\n",
       "      <td>0.000</td>\n",
       "      <td>0.000</td>\n",
       "      <td>0.000</td>\n",
       "      <td>1.000</td>\n",
       "      <td>0.000</td>\n",
       "      <td>0.000</td>\n",
       "      <td>0.000</td>\n",
       "      <td>0.000</td>\n",
       "      <td>0.000</td>\n",
       "      <td>0.000</td>\n",
       "      <td>0.000</td>\n",
       "      <td>0.000</td>\n",
       "      <td>0.000</td>\n",
       "      <td>0.000</td>\n",
       "      <td>1.000</td>\n",
       "      <td>0.000</td>\n",
       "      <td>0.000</td>\n",
       "      <td>0.000</td>\n",
       "    </tr>\n",
       "    <tr>\n",
       "      <th>2999</th>\n",
       "      <td>1.000</td>\n",
       "      <td>0.000</td>\n",
       "      <td>0.000</td>\n",
       "      <td>0.000</td>\n",
       "      <td>0.000</td>\n",
       "      <td>0.000</td>\n",
       "      <td>0.000</td>\n",
       "      <td>0.000</td>\n",
       "      <td>0.000</td>\n",
       "      <td>0.000</td>\n",
       "      <td>0.000</td>\n",
       "      <td>0.000</td>\n",
       "      <td>1.000</td>\n",
       "      <td>0.000</td>\n",
       "      <td>0.000</td>\n",
       "      <td>0.000</td>\n",
       "      <td>1.000</td>\n",
       "      <td>0.000</td>\n",
       "    </tr>\n",
       "  </tbody>\n",
       "</table>\n",
       "<p>3000 rows × 18 columns</p>\n",
       "</div>"
      ],
      "text/plain": [
       "name   Action  Adventure  Animation  Comedy  Crime  Documentary  Drama  \\\n",
       "movie                                                                    \n",
       "0       0.000      0.000      0.000   1.000  0.000        0.000  0.000   \n",
       "1       0.000      0.000      0.000   1.000  0.000        0.000  1.000   \n",
       "2       0.000      0.000      0.000   0.000  0.000        0.000  1.000   \n",
       "3       0.000      0.000      0.000   0.000  0.000        0.000  1.000   \n",
       "4       1.000      0.000      0.000   0.000  0.000        0.000  0.000   \n",
       "...       ...        ...        ...     ...    ...          ...    ...   \n",
       "2995    0.000      0.000      0.000   1.000  0.000        0.000  0.000   \n",
       "2996    0.000      0.000      0.000   0.000  0.000        0.000  1.000   \n",
       "2997    1.000      0.000      0.000   0.000  1.000        0.000  0.000   \n",
       "2998    0.000      0.000      0.000   1.000  0.000        0.000  0.000   \n",
       "2999    1.000      0.000      0.000   0.000  0.000        0.000  0.000   \n",
       "\n",
       "name   Family  Fantasy  History  Horror  Music  Mystery  Other genre  Romance  \\\n",
       "movie                                                                           \n",
       "0       0.000    0.000    0.000   0.000  0.000    0.000        0.000    0.000   \n",
       "1       1.000    0.000    0.000   0.000  0.000    0.000        0.000    1.000   \n",
       "2       0.000    0.000    0.000   0.000  0.000    0.000        0.000    0.000   \n",
       "3       0.000    0.000    0.000   0.000  0.000    0.000        0.000    0.000   \n",
       "4       0.000    0.000    0.000   0.000  0.000    0.000        0.000    0.000   \n",
       "...       ...      ...      ...     ...    ...      ...          ...      ...   \n",
       "2995    0.000    0.000    0.000   0.000  0.000    0.000        0.000    1.000   \n",
       "2996    0.000    0.000    0.000   0.000  1.000    0.000        0.000    0.000   \n",
       "2997    0.000    0.000    0.000   0.000  0.000    1.000        0.000    0.000   \n",
       "2998    0.000    0.000    0.000   0.000  0.000    0.000        0.000    1.000   \n",
       "2999    0.000    0.000    0.000   0.000  0.000    1.000        0.000    0.000   \n",
       "\n",
       "name   Science Fiction  Thriller   War  \n",
       "movie                                   \n",
       "0                0.000     0.000 0.000  \n",
       "1                0.000     0.000 0.000  \n",
       "2                0.000     0.000 0.000  \n",
       "3                0.000     1.000 0.000  \n",
       "4                0.000     1.000 0.000  \n",
       "...                ...       ...   ...  \n",
       "2995             0.000     0.000 0.000  \n",
       "2996             0.000     0.000 0.000  \n",
       "2997             0.000     1.000 0.000  \n",
       "2998             0.000     0.000 0.000  \n",
       "2999             0.000     1.000 0.000  \n",
       "\n",
       "[3000 rows x 18 columns]"
      ]
     },
     "execution_count": 359,
     "metadata": {},
     "output_type": "execute_result"
    }
   ],
   "source": [
    "df = pd.DataFrame(y.pivot_table(index='movie',columns='name',values='id',aggfunc='count')).fillna(0)\n",
    "df[df>1]=1\n",
    "df"
   ]
  },
  {
   "cell_type": "markdown",
   "metadata": {},
   "source": [
    "Finally, drop the original genres column and join to our data. "
   ]
  },
  {
   "cell_type": "code",
   "execution_count": 360,
   "metadata": {},
   "outputs": [],
   "source": [
    "train = train.join(df)\n",
    "train = train.drop('genres',axis=1)"
   ]
  },
  {
   "cell_type": "markdown",
   "metadata": {},
   "source": [
    "# original_language"
   ]
  },
  {
   "cell_type": "code",
   "execution_count": 361,
   "metadata": {},
   "outputs": [
    {
     "data": {
      "text/html": [
       "<div>\n",
       "<style scoped>\n",
       "    .dataframe tbody tr th:only-of-type {\n",
       "        vertical-align: middle;\n",
       "    }\n",
       "\n",
       "    .dataframe tbody tr th {\n",
       "        vertical-align: top;\n",
       "    }\n",
       "\n",
       "    .dataframe thead th {\n",
       "        text-align: right;\n",
       "    }\n",
       "</style>\n",
       "<table border=\"1\" class=\"dataframe\">\n",
       "  <thead>\n",
       "    <tr style=\"text-align: right;\">\n",
       "      <th></th>\n",
       "      <th>mean</th>\n",
       "      <th>std</th>\n",
       "      <th>count</th>\n",
       "    </tr>\n",
       "    <tr>\n",
       "      <th>original_language</th>\n",
       "      <th></th>\n",
       "      <th></th>\n",
       "      <th></th>\n",
       "    </tr>\n",
       "  </thead>\n",
       "  <tbody>\n",
       "    <tr>\n",
       "      <th>en</th>\n",
       "      <td>16.202</td>\n",
       "      <td>2.977</td>\n",
       "      <td>2575</td>\n",
       "    </tr>\n",
       "    <tr>\n",
       "      <th>fr</th>\n",
       "      <td>13.718</td>\n",
       "      <td>3.394</td>\n",
       "      <td>78</td>\n",
       "    </tr>\n",
       "    <tr>\n",
       "      <th>ru</th>\n",
       "      <td>13.815</td>\n",
       "      <td>2.920</td>\n",
       "      <td>47</td>\n",
       "    </tr>\n",
       "    <tr>\n",
       "      <th>es</th>\n",
       "      <td>14.646</td>\n",
       "      <td>1.849</td>\n",
       "      <td>43</td>\n",
       "    </tr>\n",
       "    <tr>\n",
       "      <th>hi</th>\n",
       "      <td>15.371</td>\n",
       "      <td>3.785</td>\n",
       "      <td>42</td>\n",
       "    </tr>\n",
       "    <tr>\n",
       "      <th>ja</th>\n",
       "      <td>15.818</td>\n",
       "      <td>3.092</td>\n",
       "      <td>37</td>\n",
       "    </tr>\n",
       "  </tbody>\n",
       "</table>\n",
       "</div>"
      ],
      "text/plain": [
       "                    mean   std  count\n",
       "original_language                    \n",
       "en                16.202 2.977   2575\n",
       "fr                13.718 3.394     78\n",
       "ru                13.815 2.920     47\n",
       "es                14.646 1.849     43\n",
       "hi                15.371 3.785     42\n",
       "ja                15.818 3.092     37"
      ]
     },
     "execution_count": 361,
     "metadata": {},
     "output_type": "execute_result"
    }
   ],
   "source": [
    "grp = pd.DataFrame(train.groupby('original_language').agg(['mean','std','count'])['revenue'])\n",
    "grp = grp[grp['count']>30]\n",
    "grp.sort_values('count',ascending=False)"
   ]
  },
  {
   "cell_type": "markdown",
   "metadata": {},
   "source": [
    "An overwhelming majority of the movies are in english.\n",
    "For now, we will keep 'en' and 'fr'. The rest are too few to use. 'fr' might be dropped later. "
   ]
  },
  {
   "cell_type": "code",
   "execution_count": 362,
   "metadata": {},
   "outputs": [],
   "source": [
    "train['lang_en'] = train['original_language'].apply(lambda x: 1 if x=='en' else 0)\n",
    "train['lang_fr'] = train['original_language'].apply(lambda x: 1 if x=='fr' else 0)\n",
    "train = train.drop('original_language',axis=1)"
   ]
  },
  {
   "cell_type": "markdown",
   "metadata": {},
   "source": [
    "# production_companies\n",
    "Will need to do the same as in genres."
   ]
  },
  {
   "cell_type": "code",
   "execution_count": 363,
   "metadata": {},
   "outputs": [
    {
     "data": {
      "text/html": [
       "<div>\n",
       "<style scoped>\n",
       "    .dataframe tbody tr th:only-of-type {\n",
       "        vertical-align: middle;\n",
       "    }\n",
       "\n",
       "    .dataframe tbody tr th {\n",
       "        vertical-align: top;\n",
       "    }\n",
       "\n",
       "    .dataframe thead th {\n",
       "        text-align: right;\n",
       "    }\n",
       "</style>\n",
       "<table border=\"1\" class=\"dataframe\">\n",
       "  <thead>\n",
       "    <tr style=\"text-align: right;\">\n",
       "      <th></th>\n",
       "      <th>name</th>\n",
       "      <th>id</th>\n",
       "      <th>movie</th>\n",
       "    </tr>\n",
       "  </thead>\n",
       "  <tbody>\n",
       "    <tr>\n",
       "      <th>0</th>\n",
       "      <td>Paramount Pictures</td>\n",
       "      <td>4</td>\n",
       "      <td>0</td>\n",
       "    </tr>\n",
       "    <tr>\n",
       "      <th>1</th>\n",
       "      <td>United Artists</td>\n",
       "      <td>60</td>\n",
       "      <td>0</td>\n",
       "    </tr>\n",
       "    <tr>\n",
       "      <th>2</th>\n",
       "      <td>Metro-Goldwyn-Mayer (MGM)</td>\n",
       "      <td>8411</td>\n",
       "      <td>0</td>\n",
       "    </tr>\n",
       "    <tr>\n",
       "      <th>0</th>\n",
       "      <td>Walt Disney Pictures</td>\n",
       "      <td>2</td>\n",
       "      <td>1</td>\n",
       "    </tr>\n",
       "    <tr>\n",
       "      <th>0</th>\n",
       "      <td>Bold Films</td>\n",
       "      <td>2266</td>\n",
       "      <td>2</td>\n",
       "    </tr>\n",
       "  </tbody>\n",
       "</table>\n",
       "</div>"
      ],
      "text/plain": [
       "                        name    id  movie\n",
       "0         Paramount Pictures     4      0\n",
       "1             United Artists    60      0\n",
       "2  Metro-Goldwyn-Mayer (MGM)  8411      0\n",
       "0       Walt Disney Pictures     2      1\n",
       "0                 Bold Films  2266      2"
      ]
     },
     "execution_count": 363,
     "metadata": {},
     "output_type": "execute_result"
    }
   ],
   "source": [
    "train['production_companies'] = train['production_companies'].fillna(\"[{'name': '', 'id': 0}]\")\n",
    "\n",
    "for i in range(len(train)):\n",
    "    x = split_to_df(train.loc[i,'production_companies'])\n",
    "    x['movie'] = i\n",
    "    if i==0:\n",
    "        y = x.copy()\n",
    "    else:\n",
    "        y = pd.concat([y,x])\n",
    "y.head()"
   ]
  },
  {
   "cell_type": "code",
   "execution_count": 364,
   "metadata": {},
   "outputs": [
    {
     "name": "stdout",
     "output_type": "stream",
     "text": [
      "name\n",
      "Warner Bros.                             202.000\n",
      "Universal Pictures                       188.000\n",
      "Paramount Pictures                       161.000\n",
      "                                         156.000\n",
      "Twentieth Century Fox Film Corporation   138.000\n",
      "Columbia Pictures                         91.000\n",
      "Metro-Goldwyn-Mayer (MGM)                 84.000\n",
      "New Line Cinema                           75.000\n",
      "Touchstone Pictures                       63.000\n",
      "Walt Disney Pictures                      62.000\n",
      "Columbia Pictures Corporation             61.000\n",
      "TriStar Pictures                          53.000\n",
      "Relativity Media                          48.000\n",
      "Canal+                                    46.000\n",
      "United Artists                            44.000\n",
      "Miramax Films                             40.000\n",
      "Village Roadshow Pictures                 36.000\n",
      "Regency Enterprises                       31.000\n",
      "BBC Films                                 30.000\n",
      "Dune Entertainment                        30.000\n",
      "dtype: float64\n"
     ]
    }
   ],
   "source": [
    "df = pd.DataFrame(y.pivot_table(index='movie',columns='name',values='id',aggfunc='count')).fillna(0)\n",
    "df[df>1]=1\n",
    "print(df.sum().sort_values(ascending=False).head(20))"
   ]
  },
  {
   "cell_type": "markdown",
   "metadata": {},
   "source": [
    "Keep only the 10 most prolific studios (at least 60 movies):"
   ]
  },
  {
   "cell_type": "code",
   "execution_count": 365,
   "metadata": {},
   "outputs": [],
   "source": [
    "big_companies = ['Warner Bros.','Universal Pictures','Paramount Pictures','Twentieth Century Fox Film Corporation','Columbia Pictures','Metro-Goldwyn-Mayer (MGM)','New Line Cinema','Walt Disney Pictures','Columbia Pictures Corporation']\n",
    "y['name'] = y['name'].apply(lambda x: x if x in big_companies else 'Other Company')\n",
    "df = pd.DataFrame(y.pivot_table(index='movie',columns='name',values='id',aggfunc='count')).fillna(0)\n",
    "df[df>1]=1"
   ]
  },
  {
   "cell_type": "code",
   "execution_count": 366,
   "metadata": {
    "scrolled": true
   },
   "outputs": [],
   "source": [
    "train = train.join(df)\n",
    "train = train.drop('production_companies',axis=1)"
   ]
  },
  {
   "cell_type": "markdown",
   "metadata": {},
   "source": [
    "# production_countries"
   ]
  },
  {
   "cell_type": "code",
   "execution_count": 367,
   "metadata": {},
   "outputs": [],
   "source": [
    "train['production_countries'] = train['production_countries'].fillna(\"[{'iso_3166_1': 'Missing', 'name': ''}]\")\n",
    "\n",
    "for i in range(len(train)):\n",
    "    x = split_to_df(train.loc[i,'production_countries'])\n",
    "    x['movie'] = i\n",
    "    if i==0:\n",
    "        y = x.copy()\n",
    "    else:\n",
    "        y = pd.concat([y,x])"
   ]
  },
  {
   "cell_type": "code",
   "execution_count": 368,
   "metadata": {},
   "outputs": [
    {
     "data": {
      "text/plain": [
       "US         2282\n",
       "GB          380\n",
       "FR          222\n",
       "DE          167\n",
       "CA          120\n",
       "IN           81\n",
       "IT           64\n",
       "AU           61\n",
       "JP           61\n",
       "RU           58\n",
       "Missing      55\n",
       "ES           54\n",
       "HK           42\n",
       "CN           42\n",
       "BE           23\n",
       "IE           23\n",
       "KR           22\n",
       "MX           19\n",
       "SE           18\n",
       "NZ           17\n",
       "Name: iso_3166_1, dtype: int64"
      ]
     },
     "execution_count": 368,
     "metadata": {},
     "output_type": "execute_result"
    }
   ],
   "source": [
    "y['iso_3166_1'].value_counts().head(20)"
   ]
  },
  {
   "cell_type": "code",
   "execution_count": 369,
   "metadata": {},
   "outputs": [],
   "source": [
    "big_countries = ['US','FR','GB','DE','IN','CA','RU','JP']\n",
    "y['iso_3166_1'] = y['iso_3166_1'].apply(lambda x: x if x in big_countries else 'Other Country')"
   ]
  },
  {
   "cell_type": "code",
   "execution_count": 370,
   "metadata": {},
   "outputs": [],
   "source": [
    "df = pd.DataFrame(y.pivot_table(index='movie',columns='iso_3166_1',values='name',aggfunc='count')).fillna(0)\n",
    "df[df>1]=1"
   ]
  },
  {
   "cell_type": "code",
   "execution_count": 371,
   "metadata": {},
   "outputs": [],
   "source": [
    "train = train.join(df)\n",
    "train = train.drop('production_countries',axis=1)"
   ]
  },
  {
   "cell_type": "markdown",
   "metadata": {},
   "source": [
    "# Keywords"
   ]
  },
  {
   "cell_type": "code",
   "execution_count": 372,
   "metadata": {},
   "outputs": [],
   "source": [
    "train['Keywords'] = train['Keywords'].fillna(\"[{'id': 0, 'name': ''}]\")\n",
    "\n",
    "for i in range(len(train)):\n",
    "    x = split_to_df(train.loc[i,'Keywords'])\n",
    "    x['movie'] = i\n",
    "    if i==0:\n",
    "        y = x.copy()\n",
    "    else:\n",
    "        y = pd.concat([y,x])"
   ]
  },
  {
   "cell_type": "code",
   "execution_count": 373,
   "metadata": {},
   "outputs": [
    {
     "name": "stdout",
     "output_type": "stream",
     "text": [
      "                           276\n",
      "woman director             175\n",
      "independent film           155\n",
      "duringcreditsstinger       134\n",
      "murder                     123\n",
      "based on novel             111\n",
      "violence                    87\n",
      "sport                       82\n",
      "biography                   77\n",
      "aftercreditsstinger         75\n",
      "revenge                     73\n",
      "dystopia                    73\n",
      "friendship                  72\n",
      "sex                         71\n",
      "suspense                    67\n",
      "sequel                      66\n",
      "police                      64\n",
      "love                        64\n",
      "teenager                    61\n",
      "nudity                      57\n",
      "female nudity               53\n",
      "drug                        52\n",
      "prison                      50\n",
      "high school                 49\n",
      "musical                     49\n",
      "los angeles                 48\n",
      "new york                    47\n",
      "family                      45\n",
      "father son relationship     44\n",
      "investigation               41\n",
      "Name: name, dtype: int64\n"
     ]
    }
   ],
   "source": [
    "print(y['name'].value_counts().head(30))"
   ]
  },
  {
   "cell_type": "code",
   "execution_count": 374,
   "metadata": {},
   "outputs": [],
   "source": [
    "main_keywords = ['woman director', 'independent film', 'duringcreditsstinger',\n",
    "       'murder', 'based on novel', 'violence', 'sport', 'biography',\n",
    "       'dystopia', 'aftercreditsstinger', 'revenge', 'suspense', 'friendship',\n",
    "       'sex', 'sequel', 'police', 'love', 'teenager', 'nudity','female nudity']\n",
    "y['name'] = y['name'].apply(lambda x: x if x in main_keywords else 'Other Keyword')"
   ]
  },
  {
   "cell_type": "code",
   "execution_count": 375,
   "metadata": {},
   "outputs": [],
   "source": [
    "df = pd.DataFrame(y.pivot_table(index='movie',columns='name',values='id',aggfunc='count')).fillna(0)\n",
    "df[df>1]=1"
   ]
  },
  {
   "cell_type": "code",
   "execution_count": 376,
   "metadata": {},
   "outputs": [],
   "source": [
    "train = train.join(df.drop('Other Keyword',axis=1))\n",
    "train = train.drop('Keywords',axis=1)"
   ]
  },
  {
   "cell_type": "markdown",
   "metadata": {},
   "source": [
    "# cast\n",
    "This is possibly an important feature. However, the number of actors and actresses is immense.\n",
    "For now, we will just extract from it the gender of the lead actor (the first in the list). "
   ]
  },
  {
   "cell_type": "code",
   "execution_count": 377,
   "metadata": {},
   "outputs": [],
   "source": [
    "def find_gender(str1):\n",
    "    gender = 0 \n",
    "    ind1 = str1.find('gender')\n",
    "    if ind1 >= 0:\n",
    "        ind2 = str1.find(',',ind1)\n",
    "        if ind2 >= 0:\n",
    "            gender = str1[ind2-1]\n",
    "    return int(gender)"
   ]
  },
  {
   "cell_type": "code",
   "execution_count": 378,
   "metadata": {},
   "outputs": [
    {
     "name": "stdout",
     "output_type": "stream",
     "text": [
      "gender_lead\n",
      "1   15.859\n",
      "2   16.271\n",
      "Name: revenue, dtype: float64\n"
     ]
    },
    {
     "data": {
      "text/plain": [
       "<matplotlib.axes._subplots.AxesSubplot at 0x2993b988>"
      ]
     },
     "execution_count": 378,
     "metadata": {},
     "output_type": "execute_result"
    },
    {
     "data": {
      "image/png": "[encoded data removed]",
      "text/plain": [
       "<Figure size 432x288 with 1 Axes>"
      ]
     },
     "metadata": {},
     "output_type": "display_data"
    }
   ],
   "source": [
    "train['cast'] = train['cast'].fillna(\"[{'cast_id': 0, 'character': '', 'credit_id': '0', 'gender': 0, 'id': 0, 'name': '', 'order': 0, 'profile_path': ''}]\")\n",
    "train['cast'] = train['cast'].replace(\"[]\",\"[{'cast_id': 0, 'character': '', 'credit_id': '0', 'gender': 0, 'id': 0, 'name': '', 'order': 0, 'profile_path': ''}]\")\n",
    "\n",
    "train['gender_lead'] = train['cast'].apply(find_gender)\n",
    "\n",
    "train['male_lead'] = train['gender_lead'].apply(lambda x: 1 if x==2 else 0)\n",
    "train['female_lead'] = train['gender_lead'].apply(lambda x: 1 if x==1 else 0)\n",
    "\n",
    "print(train[train['gender_lead']>0].groupby('gender_lead')['revenue'].mean())\n",
    "sns.boxplot(data=train[train['gender_lead']>0],x='gender_lead',y='revenue')"
   ]
  },
  {
   "cell_type": "code",
   "execution_count": 379,
   "metadata": {},
   "outputs": [],
   "source": [
    "train = train.drop(['cast','gender_lead'],axis=1)"
   ]
  },
  {
   "cell_type": "markdown",
   "metadata": {},
   "source": [
    "# runtime"
   ]
  },
  {
   "cell_type": "code",
   "execution_count": 380,
   "metadata": {},
   "outputs": [
    {
     "data": {
      "text/plain": [
       "count   2,998.000\n",
       "mean      107.857\n",
       "std        22.086\n",
       "min         0.000\n",
       "25%        94.000\n",
       "50%       104.000\n",
       "75%       118.000\n",
       "max       338.000\n",
       "Name: runtime, dtype: float64"
      ]
     },
     "execution_count": 380,
     "metadata": {},
     "output_type": "execute_result"
    }
   ],
   "source": [
    "train['runtime'].describe()"
   ]
  },
  {
   "cell_type": "markdown",
   "metadata": {},
   "source": [
    "0 is not a valid runtime. Recode to Null"
   ]
  },
  {
   "cell_type": "code",
   "execution_count": 381,
   "metadata": {},
   "outputs": [],
   "source": [
    "train.loc[train['runtime']==0,'runtime'] = np.nan"
   ]
  },
  {
   "cell_type": "code",
   "execution_count": 382,
   "metadata": {},
   "outputs": [
    {
     "data": {
      "text/plain": [
       "108.29002009377093"
      ]
     },
     "execution_count": 382,
     "metadata": {},
     "output_type": "execute_result"
    }
   ],
   "source": [
    "train['runtime'].mean()"
   ]
  },
  {
   "cell_type": "code",
   "execution_count": 383,
   "metadata": {},
   "outputs": [],
   "source": [
    "train['runtime'] = train['runtime'].fillna(108)"
   ]
  },
  {
   "cell_type": "code",
   "execution_count": 384,
   "metadata": {},
   "outputs": [
    {
     "name": "stdout",
     "output_type": "stream",
     "text": [
      "         runtime  revenue\n",
      "runtime    1.000    0.201\n",
      "revenue    0.201    1.000\n"
     ]
    },
    {
     "data": {
      "text/plain": [
       "<seaborn.axisgrid.FacetGrid at 0x297c6c88>"
      ]
     },
     "execution_count": 384,
     "metadata": {},
     "output_type": "execute_result"
    },
    {
     "data": {
      "image/png": "[encoded data removed]",
      "text/plain": [
       "<Figure size 360x360 with 1 Axes>"
      ]
     },
     "metadata": {},
     "output_type": "display_data"
    }
   ],
   "source": [
    "print(train[['runtime','revenue']].corr())\n",
    "sns.lmplot(data=train,x='runtime',y='revenue')"
   ]
  },
  {
   "cell_type": "code",
   "execution_count": 385,
   "metadata": {},
   "outputs": [
    {
     "data": {
      "text/plain": [
       "<matplotlib.axes._subplots.AxesSubplot at 0x29816c88>"
      ]
     },
     "execution_count": 385,
     "metadata": {},
     "output_type": "execute_result"
    },
    {
     "data": {
      "image/png": "[encoded data removed]",
      "text/plain": [
       "<Figure size 432x288 with 1 Axes>"
      ]
     },
     "metadata": {},
     "output_type": "display_data"
    }
   ],
   "source": [
    "train['runtime'].hist()"
   ]
  },
  {
   "cell_type": "markdown",
   "metadata": {},
   "source": [
    "# popularity"
   ]
  },
  {
   "cell_type": "code",
   "execution_count": 386,
   "metadata": {},
   "outputs": [
    {
     "data": {
      "text/plain": [
       "<matplotlib.axes._subplots.AxesSubplot at 0x297b2248>"
      ]
     },
     "execution_count": 386,
     "metadata": {},
     "output_type": "execute_result"
    },
    {
     "data": {
      "image/png": "[encoded data removed]",
      "text/plain": [
       "<Figure size 432x288 with 1 Axes>"
      ]
     },
     "metadata": {},
     "output_type": "display_data"
    }
   ],
   "source": [
    "train['popularity'].hist()"
   ]
  },
  {
   "cell_type": "code",
   "execution_count": 387,
   "metadata": {},
   "outputs": [
    {
     "name": "stdout",
     "output_type": "stream",
     "text": [
      "            popularity  revenue\n",
      "popularity       1.000    0.288\n",
      "revenue          0.288    1.000\n"
     ]
    },
    {
     "data": {
      "text/plain": [
       "<seaborn.axisgrid.FacetGrid at 0x2980e5c8>"
      ]
     },
     "execution_count": 387,
     "metadata": {},
     "output_type": "execute_result"
    },
    {
     "data": {
      "image/png": "[encoded data removed]",
      "text/plain": [
       "<Figure size 360x360 with 1 Axes>"
      ]
     },
     "metadata": {},
     "output_type": "display_data"
    }
   ],
   "source": [
    "print(train[['popularity','revenue']].corr())\n",
    "sns.lmplot(data=train,x='popularity',y='revenue')"
   ]
  },
  {
   "cell_type": "markdown",
   "metadata": {},
   "source": [
    "It appears there are a few hugely popular movies reducing the correlation."
   ]
  },
  {
   "cell_type": "code",
   "execution_count": 388,
   "metadata": {},
   "outputs": [
    {
     "name": "stdout",
     "output_type": "stream",
     "text": [
      "            popularity  revenue\n",
      "popularity       1.000    0.488\n",
      "revenue          0.488    1.000\n"
     ]
    },
    {
     "data": {
      "text/plain": [
       "<seaborn.axisgrid.FacetGrid at 0x297a50c8>"
      ]
     },
     "execution_count": 388,
     "metadata": {},
     "output_type": "execute_result"
    },
    {
     "data": {
      "image/png": "[encoded data removed]",
      "text/plain": [
       "<Figure size 360x360 with 1 Axes>"
      ]
     },
     "metadata": {},
     "output_type": "display_data"
    }
   ],
   "source": [
    "temp=train[train['popularity']<50]\n",
    "print(temp[['popularity','revenue']].corr())\n",
    "sns.lmplot(data=temp,x='popularity',y='revenue')"
   ]
  },
  {
   "cell_type": "markdown",
   "metadata": {},
   "source": [
    "Removing just 15 observations (0.5%) remarkably improves things."
   ]
  },
  {
   "cell_type": "code",
   "execution_count": 389,
   "metadata": {},
   "outputs": [],
   "source": [
    "train=train[train['popularity']<50]"
   ]
  },
  {
   "cell_type": "markdown",
   "metadata": {},
   "source": [
    "# release_date\n",
    "We will extract month and year."
   ]
  },
  {
   "cell_type": "code",
   "execution_count": 390,
   "metadata": {},
   "outputs": [],
   "source": [
    "train.loc[:,'release_date'] = pd.to_datetime(train.loc[:,'release_date'])"
   ]
  },
  {
   "cell_type": "code",
   "execution_count": 391,
   "metadata": {},
   "outputs": [],
   "source": [
    "train['release_year'] = train['release_date'].apply(lambda x: x.year)"
   ]
  },
  {
   "cell_type": "code",
   "execution_count": 392,
   "metadata": {},
   "outputs": [],
   "source": [
    "train.loc[:,'release_year'] = train['release_year'].apply(lambda x: x if x<=2020 else x-100)"
   ]
  },
  {
   "cell_type": "code",
   "execution_count": 393,
   "metadata": {},
   "outputs": [
    {
     "data": {
      "text/plain": [
       "<matplotlib.axes._subplots.AxesSubplot at 0x295c5cc8>"
      ]
     },
     "execution_count": 393,
     "metadata": {},
     "output_type": "execute_result"
    },
    {
     "data": {
      "image/png": "[encoded data removed]",
      "text/plain": [
       "<Figure size 864x576 with 1 Axes>"
      ]
     },
     "metadata": {},
     "output_type": "display_data"
    }
   ],
   "source": [
    "train.groupby('release_year').mean()['revenue'].plot(figsize=(12,8))"
   ]
  },
  {
   "cell_type": "code",
   "execution_count": 394,
   "metadata": {},
   "outputs": [],
   "source": [
    "train['release_month'] = train['release_date'].apply(lambda x: x.month)"
   ]
  },
  {
   "cell_type": "code",
   "execution_count": 395,
   "metadata": {},
   "outputs": [
    {
     "data": {
      "text/plain": [
       "<matplotlib.axes._subplots.AxesSubplot at 0x297ab888>"
      ]
     },
     "execution_count": 395,
     "metadata": {},
     "output_type": "execute_result"
    },
    {
     "data": {
      "image/png": "[encoded data removed]",
      "text/plain": [
       "<Figure size 864x576 with 1 Axes>"
      ]
     },
     "metadata": {},
     "output_type": "display_data"
    }
   ],
   "source": [
    "plt.figure(figsize=(12,8))\n",
    "sns.boxplot(data=train,x='release_month',y='revenue')"
   ]
  },
  {
   "cell_type": "code",
   "execution_count": 396,
   "metadata": {},
   "outputs": [],
   "source": [
    "df = pd.get_dummies(train['release_month'],prefix='release_month')\n",
    "train = train.join(df)\n",
    "train = train.drop(['release_date','release_month'],axis=1)"
   ]
  },
  {
   "cell_type": "markdown",
   "metadata": {},
   "source": [
    "# budget"
   ]
  },
  {
   "cell_type": "code",
   "execution_count": 397,
   "metadata": {},
   "outputs": [
    {
     "data": {
      "text/plain": [
       "count         2,985.000\n",
       "mean     22,110,118.034\n",
       "std      36,291,553.588\n",
       "min               0.000\n",
       "25%               0.000\n",
       "50%       8,000,000.000\n",
       "75%      28,000,000.000\n",
       "max     380,000,000.000\n",
       "Name: budget, dtype: float64"
      ]
     },
     "execution_count": 397,
     "metadata": {},
     "output_type": "execute_result"
    }
   ],
   "source": [
    "train['budget'].describe()"
   ]
  },
  {
   "cell_type": "markdown",
   "metadata": {},
   "source": [
    "Not sure what budget 0 means, but there are many of them.\n",
    "It makes no difference to the correlation:"
   ]
  },
  {
   "cell_type": "code",
   "execution_count": 398,
   "metadata": {},
   "outputs": [
    {
     "name": "stdout",
     "output_type": "stream",
     "text": [
      "         budget  revenue\n",
      "budget    1.000    0.480\n",
      "revenue   0.480    1.000\n",
      "         budget  revenue\n",
      "budget    1.000    0.487\n",
      "revenue   0.487    1.000\n"
     ]
    }
   ],
   "source": [
    "temp = train[['budget','revenue']]\n",
    "print(temp.corr())\n",
    "print(temp[data['budget'] > 0].corr())"
   ]
  },
  {
   "cell_type": "markdown",
   "metadata": {},
   "source": [
    "## Some parameters change over time. We will create normalized versions of them, relative to the year."
   ]
  },
  {
   "cell_type": "code",
   "execution_count": 399,
   "metadata": {},
   "outputs": [],
   "source": [
    "train['budget_year'] = train['budget']/train.groupby('release_year')['budget'].transform('mean')\n",
    "train['runtime_year'] = train['runtime']/train.groupby('release_year')['runtime'].transform('mean')\n",
    "train['popularity_year'] = train['popularity']/train.groupby('release_year')['popularity'].transform('mean')"
   ]
  },
  {
   "cell_type": "code",
   "execution_count": 400,
   "metadata": {},
   "outputs": [
    {
     "data": {
      "text/plain": [
       "revenue           1.000\n",
       "budget_year       0.489\n",
       "runtime_year      0.192\n",
       "popularity_year   0.507\n",
       "Name: revenue, dtype: float64"
      ]
     },
     "execution_count": 400,
     "metadata": {},
     "output_type": "execute_result"
    }
   ],
   "source": [
    "train[['revenue','budget_year','runtime_year','popularity_year']].corr()['revenue']"
   ]
  },
  {
   "cell_type": "markdown",
   "metadata": {},
   "source": [
    "# info and save"
   ]
  },
  {
   "cell_type": "code",
   "execution_count": 401,
   "metadata": {},
   "outputs": [
    {
     "name": "stdout",
     "output_type": "stream",
     "text": [
      "<class 'pandas.core.frame.DataFrame'>\n",
      "Int64Index: 2985 entries, 0 to 2999\n",
      "Data columns (total 83 columns):\n",
      " #   Column                                  Non-Null Count  Dtype  \n",
      "---  ------                                  --------------  -----  \n",
      " 0   belongs_to_collection                   2985 non-null   int64  \n",
      " 1   budget                                  2985 non-null   int64  \n",
      " 2   popularity                              2985 non-null   float64\n",
      " 3   runtime                                 2985 non-null   float64\n",
      " 4   revenue                                 2985 non-null   float64\n",
      " 5   has_homepage                            2985 non-null   int64  \n",
      " 6   Action                                  2985 non-null   float64\n",
      " 7   Adventure                               2985 non-null   float64\n",
      " 8   Animation                               2985 non-null   float64\n",
      " 9   Comedy                                  2985 non-null   float64\n",
      " 10  Crime                                   2985 non-null   float64\n",
      " 11  Documentary                             2985 non-null   float64\n",
      " 12  Drama                                   2985 non-null   float64\n",
      " 13  Family                                  2985 non-null   float64\n",
      " 14  Fantasy                                 2985 non-null   float64\n",
      " 15  History                                 2985 non-null   float64\n",
      " 16  Horror                                  2985 non-null   float64\n",
      " 17  Music                                   2985 non-null   float64\n",
      " 18  Mystery                                 2985 non-null   float64\n",
      " 19  Other genre                             2985 non-null   float64\n",
      " 20  Romance                                 2985 non-null   float64\n",
      " 21  Science Fiction                         2985 non-null   float64\n",
      " 22  Thriller                                2985 non-null   float64\n",
      " 23  War                                     2985 non-null   float64\n",
      " 24  lang_en                                 2985 non-null   int64  \n",
      " 25  lang_fr                                 2985 non-null   int64  \n",
      " 26  Columbia Pictures                       2985 non-null   float64\n",
      " 27  Columbia Pictures Corporation           2985 non-null   float64\n",
      " 28  Metro-Goldwyn-Mayer (MGM)               2985 non-null   float64\n",
      " 29  New Line Cinema                         2985 non-null   float64\n",
      " 30  Other Company                           2985 non-null   float64\n",
      " 31  Paramount Pictures                      2985 non-null   float64\n",
      " 32  Twentieth Century Fox Film Corporation  2985 non-null   float64\n",
      " 33  Universal Pictures                      2985 non-null   float64\n",
      " 34  Walt Disney Pictures                    2985 non-null   float64\n",
      " 35  Warner Bros.                            2985 non-null   float64\n",
      " 36  CA                                      2985 non-null   float64\n",
      " 37  DE                                      2985 non-null   float64\n",
      " 38  FR                                      2985 non-null   float64\n",
      " 39  GB                                      2985 non-null   float64\n",
      " 40  IN                                      2985 non-null   float64\n",
      " 41  JP                                      2985 non-null   float64\n",
      " 42  Other Country                           2985 non-null   float64\n",
      " 43  RU                                      2985 non-null   float64\n",
      " 44  US                                      2985 non-null   float64\n",
      " 45  aftercreditsstinger                     2985 non-null   float64\n",
      " 46  based on novel                          2985 non-null   float64\n",
      " 47  biography                               2985 non-null   float64\n",
      " 48  duringcreditsstinger                    2985 non-null   float64\n",
      " 49  dystopia                                2985 non-null   float64\n",
      " 50  female nudity                           2985 non-null   float64\n",
      " 51  friendship                              2985 non-null   float64\n",
      " 52  independent film                        2985 non-null   float64\n",
      " 53  love                                    2985 non-null   float64\n",
      " 54  murder                                  2985 non-null   float64\n",
      " 55  nudity                                  2985 non-null   float64\n",
      " 56  police                                  2985 non-null   float64\n",
      " 57  revenge                                 2985 non-null   float64\n",
      " 58  sequel                                  2985 non-null   float64\n",
      " 59  sex                                     2985 non-null   float64\n",
      " 60  sport                                   2985 non-null   float64\n",
      " 61  suspense                                2985 non-null   float64\n",
      " 62  teenager                                2985 non-null   float64\n",
      " 63  violence                                2985 non-null   float64\n",
      " 64  woman director                          2985 non-null   float64\n",
      " 65  male_lead                               2985 non-null   int64  \n",
      " 66  female_lead                             2985 non-null   int64  \n",
      " 67  release_year                            2985 non-null   int64  \n",
      " 68  release_month_1                         2985 non-null   uint8  \n",
      " 69  release_month_2                         2985 non-null   uint8  \n",
      " 70  release_month_3                         2985 non-null   uint8  \n",
      " 71  release_month_4                         2985 non-null   uint8  \n",
      " 72  release_month_5                         2985 non-null   uint8  \n",
      " 73  release_month_6                         2985 non-null   uint8  \n",
      " 74  release_month_7                         2985 non-null   uint8  \n",
      " 75  release_month_8                         2985 non-null   uint8  \n",
      " 76  release_month_9                         2985 non-null   uint8  \n",
      " 77  release_month_10                        2985 non-null   uint8  \n",
      " 78  release_month_11                        2985 non-null   uint8  \n",
      " 79  release_month_12                        2985 non-null   uint8  \n",
      " 80  budget_year                             2981 non-null   float64\n",
      " 81  runtime_year                            2985 non-null   float64\n",
      " 82  popularity_year                         2985 non-null   float64\n",
      "dtypes: float64(63), int64(8), uint8(12)\n",
      "memory usage: 1.8 MB\n"
     ]
    }
   ],
   "source": [
    "train.info()"
   ]
  },
  {
   "cell_type": "code",
   "execution_count": 402,
   "metadata": {},
   "outputs": [],
   "source": [
    "train.to_csv(r'C:\\Users\\omer\\Desktop\\Kaggle\\movies\\train_fixed.csv')"
   ]
  },
  {
   "cell_type": "markdown",
   "metadata": {},
   "source": [
    "# Training the Model"
   ]
  },
  {
   "cell_type": "code",
   "execution_count": 403,
   "metadata": {},
   "outputs": [
    {
     "data": {
      "text/html": [
       "<div>\n",
       "<style scoped>\n",
       "    .dataframe tbody tr th:only-of-type {\n",
       "        vertical-align: middle;\n",
       "    }\n",
       "\n",
       "    .dataframe tbody tr th {\n",
       "        vertical-align: top;\n",
       "    }\n",
       "\n",
       "    .dataframe thead th {\n",
       "        text-align: right;\n",
       "    }\n",
       "</style>\n",
       "<table border=\"1\" class=\"dataframe\">\n",
       "  <thead>\n",
       "    <tr style=\"text-align: right;\">\n",
       "      <th></th>\n",
       "      <th>belongs_to_collection</th>\n",
       "      <th>budget</th>\n",
       "      <th>popularity</th>\n",
       "      <th>runtime</th>\n",
       "      <th>revenue</th>\n",
       "      <th>has_homepage</th>\n",
       "      <th>Action</th>\n",
       "      <th>Adventure</th>\n",
       "      <th>Animation</th>\n",
       "      <th>Comedy</th>\n",
       "      <th>...</th>\n",
       "      <th>release_month_6</th>\n",
       "      <th>release_month_7</th>\n",
       "      <th>release_month_8</th>\n",
       "      <th>release_month_9</th>\n",
       "      <th>release_month_10</th>\n",
       "      <th>release_month_11</th>\n",
       "      <th>release_month_12</th>\n",
       "      <th>budget_year</th>\n",
       "      <th>runtime_year</th>\n",
       "      <th>popularity_year</th>\n",
       "    </tr>\n",
       "  </thead>\n",
       "  <tbody>\n",
       "    <tr>\n",
       "      <th>0</th>\n",
       "      <td>1</td>\n",
       "      <td>14000000</td>\n",
       "      <td>6.575</td>\n",
       "      <td>93.000</td>\n",
       "      <td>16.326</td>\n",
       "      <td>0</td>\n",
       "      <td>0.000</td>\n",
       "      <td>0.000</td>\n",
       "      <td>0.000</td>\n",
       "      <td>1.000</td>\n",
       "      <td>...</td>\n",
       "      <td>0</td>\n",
       "      <td>0</td>\n",
       "      <td>0</td>\n",
       "      <td>0</td>\n",
       "      <td>0</td>\n",
       "      <td>0</td>\n",
       "      <td>0</td>\n",
       "      <td>0.473</td>\n",
       "      <td>0.831</td>\n",
       "      <td>0.643</td>\n",
       "    </tr>\n",
       "    <tr>\n",
       "      <th>1</th>\n",
       "      <td>1</td>\n",
       "      <td>40000000</td>\n",
       "      <td>8.249</td>\n",
       "      <td>113.000</td>\n",
       "      <td>18.371</td>\n",
       "      <td>0</td>\n",
       "      <td>0.000</td>\n",
       "      <td>0.000</td>\n",
       "      <td>0.000</td>\n",
       "      <td>1.000</td>\n",
       "      <td>...</td>\n",
       "      <td>0</td>\n",
       "      <td>0</td>\n",
       "      <td>1</td>\n",
       "      <td>0</td>\n",
       "      <td>0</td>\n",
       "      <td>0</td>\n",
       "      <td>0</td>\n",
       "      <td>1.238</td>\n",
       "      <td>1.075</td>\n",
       "      <td>0.984</td>\n",
       "    </tr>\n",
       "    <tr>\n",
       "      <th>3</th>\n",
       "      <td>0</td>\n",
       "      <td>1200000</td>\n",
       "      <td>3.175</td>\n",
       "      <td>122.000</td>\n",
       "      <td>16.588</td>\n",
       "      <td>1</td>\n",
       "      <td>0.000</td>\n",
       "      <td>0.000</td>\n",
       "      <td>0.000</td>\n",
       "      <td>0.000</td>\n",
       "      <td>...</td>\n",
       "      <td>0</td>\n",
       "      <td>0</td>\n",
       "      <td>0</td>\n",
       "      <td>0</td>\n",
       "      <td>0</td>\n",
       "      <td>0</td>\n",
       "      <td>0</td>\n",
       "      <td>0.046</td>\n",
       "      <td>1.136</td>\n",
       "      <td>0.422</td>\n",
       "    </tr>\n",
       "    <tr>\n",
       "      <th>4</th>\n",
       "      <td>0</td>\n",
       "      <td>0</td>\n",
       "      <td>1.148</td>\n",
       "      <td>118.000</td>\n",
       "      <td>15.183</td>\n",
       "      <td>0</td>\n",
       "      <td>1.000</td>\n",
       "      <td>0.000</td>\n",
       "      <td>0.000</td>\n",
       "      <td>0.000</td>\n",
       "      <td>...</td>\n",
       "      <td>0</td>\n",
       "      <td>0</td>\n",
       "      <td>0</td>\n",
       "      <td>0</td>\n",
       "      <td>0</td>\n",
       "      <td>0</td>\n",
       "      <td>0</td>\n",
       "      <td>0.000</td>\n",
       "      <td>1.107</td>\n",
       "      <td>0.146</td>\n",
       "    </tr>\n",
       "    <tr>\n",
       "      <th>5</th>\n",
       "      <td>0</td>\n",
       "      <td>8000000</td>\n",
       "      <td>0.743</td>\n",
       "      <td>83.000</td>\n",
       "      <td>14.998</td>\n",
       "      <td>0</td>\n",
       "      <td>0.000</td>\n",
       "      <td>1.000</td>\n",
       "      <td>1.000</td>\n",
       "      <td>0.000</td>\n",
       "      <td>...</td>\n",
       "      <td>0</td>\n",
       "      <td>0</td>\n",
       "      <td>1</td>\n",
       "      <td>0</td>\n",
       "      <td>0</td>\n",
       "      <td>0</td>\n",
       "      <td>0</td>\n",
       "      <td>1.219</td>\n",
       "      <td>0.808</td>\n",
       "      <td>0.106</td>\n",
       "    </tr>\n",
       "  </tbody>\n",
       "</table>\n",
       "<p>5 rows × 83 columns</p>\n",
       "</div>"
      ],
      "text/plain": [
       "   belongs_to_collection    budget  popularity  runtime  revenue  \\\n",
       "0                      1  14000000       6.575   93.000   16.326   \n",
       "1                      1  40000000       8.249  113.000   18.371   \n",
       "3                      0   1200000       3.175  122.000   16.588   \n",
       "4                      0         0       1.148  118.000   15.183   \n",
       "5                      0   8000000       0.743   83.000   14.998   \n",
       "\n",
       "   has_homepage  Action  Adventure  Animation  Comedy  ...  release_month_6  \\\n",
       "0             0   0.000      0.000      0.000   1.000  ...                0   \n",
       "1             0   0.000      0.000      0.000   1.000  ...                0   \n",
       "3             1   0.000      0.000      0.000   0.000  ...                0   \n",
       "4             0   1.000      0.000      0.000   0.000  ...                0   \n",
       "5             0   0.000      1.000      1.000   0.000  ...                0   \n",
       "\n",
       "   release_month_7  release_month_8  release_month_9  release_month_10  \\\n",
       "0                0                0                0                 0   \n",
       "1                0                1                0                 0   \n",
       "3                0                0                0                 0   \n",
       "4                0                0                0                 0   \n",
       "5                0                1                0                 0   \n",
       "\n",
       "   release_month_11  release_month_12  budget_year  runtime_year  \\\n",
       "0                 0                 0        0.473         0.831   \n",
       "1                 0                 0        1.238         1.075   \n",
       "3                 0                 0        0.046         1.136   \n",
       "4                 0                 0        0.000         1.107   \n",
       "5                 0                 0        1.219         0.808   \n",
       "\n",
       "   popularity_year  \n",
       "0            0.643  \n",
       "1            0.984  \n",
       "3            0.422  \n",
       "4            0.146  \n",
       "5            0.106  \n",
       "\n",
       "[5 rows x 83 columns]"
      ]
     },
     "execution_count": 403,
     "metadata": {},
     "output_type": "execute_result"
    }
   ],
   "source": [
    "train = pd.read_csv(r'C:\\Users\\omer\\Desktop\\Kaggle\\movies\\train_fixed.csv',index_col=0)\n",
    "train.head()"
   ]
  },
  {
   "cell_type": "markdown",
   "metadata": {},
   "source": [
    "## We'll try xgboost because it usually gives the best results."
   ]
  },
  {
   "cell_type": "code",
   "execution_count": 404,
   "metadata": {},
   "outputs": [],
   "source": [
    "import xgboost as xgb\n",
    "from sklearn.model_selection import train_test_split\n",
    "\n",
    "X = train.drop('revenue',axis=1)\n",
    "y = train['revenue']\n",
    "\n",
    "data_dmatrix = xgb.DMatrix(data=X,label=y)\n",
    "\n",
    "X_train, X_test, y_train, y_test = train_test_split(X, y, test_size=0.3, random_state=101)"
   ]
  },
  {
   "cell_type": "code",
   "execution_count": 407,
   "metadata": {},
   "outputs": [
    {
     "name": "stdout",
     "output_type": "stream",
     "text": [
      "score:  0.47821133036902963\n",
      "RMSLE:  2.292617955634429\n"
     ]
    }
   ],
   "source": [
    "from xgboost import XGBRegressor\n",
    "from sklearn.metrics import mean_squared_log_error\n",
    "\n",
    "model = XGBRegressor(objective ='reg:squarederror', n_estimators=500, learning_rate=0.01)\n",
    "\n",
    "model.fit(X_train,y_train)\n",
    "predictions = model.predict(X_test)\n",
    "\n",
    "print('score: ', model.score(X_test,y_test))\n",
    "\n",
    "predictions[predictions<0] = 0\n",
    "print('RMSLE: ', np.sqrt(mean_squared_log_error(np.exp(y_test), np.exp(predictions))))"
   ]
  },
  {
   "cell_type": "code",
   "execution_count": 411,
   "metadata": {},
   "outputs": [
    {
     "name": "stdout",
     "output_type": "stream",
     "text": [
      "['budget', 'budget_year', 'belongs_to_collection', 'Other genre', 'popularity_year', 'Family', 'popularity', 'Adventure', 'lang_fr', 'independent film', 'release_year', 'release_month_10', 'US', 'Crime', 'IN', 'release_month_7', 'release_month_9', 'Universal Pictures', 'CA', 'runtime', 'release_month_8', 'runtime_year', 'DE', 'release_month_2', 'Comedy', 'Animation', 'release_month_5', 'Drama', 'GB', 'police', 'love', 'suspense', 'woman director', 'lang_en', 'Thriller', 'Other Company', 'Other Country', 'release_month_6', 'FR', 'female_lead', 'male_lead', 'Documentary', 'Action', 'JP', 'release_month_1', 'teenager', 'duringcreditsstinger', 'Twentieth Century Fox Film Corporation', 'Romance', 'has_homepage', 'release_month_11', 'based on novel', 'Horror', 'Science Fiction', 'Metro-Goldwyn-Mayer (MGM)', 'release_month_4', 'New Line Cinema', 'release_month_3', 'Walt Disney Pictures', 'Warner Bros.', 'Columbia Pictures', 'Paramount Pictures', 'Fantasy', 'friendship', 'Mystery', 'RU', 'Music', 'War', 'release_month_12', 'sport', 'female nudity', 'murder', 'dystopia', 'History', 'violence', 'Columbia Pictures Corporation']\n",
      "AxesSubplot(0.125,0.125;0.775x0.755)\n"
     ]
    },
    {
     "data": {
      "image/png": "[encoded data removed]",
      "text/plain": [
       "<Figure size 864x720 with 1 Axes>"
      ]
     },
     "metadata": {},
     "output_type": "display_data"
    }
   ],
   "source": [
    "impdf = pd.DataFrame(list(zip(X_train.columns,model.feature_importances_)),columns=(['feature','importance']))\n",
    "impdf.sort_values(by='importance',ascending=False,inplace=True)\n",
    "print(impdf.loc[impdf['importance']>=0.005,'feature'].tolist())\n",
    "print(impdf.loc[impdf['importance']>=0.005,:].set_index('feature').sort_values('importance').plot(kind='barh',figsize=(12,10)))"
   ]
  },
  {
   "cell_type": "markdown",
   "metadata": {},
   "source": [
    "Keep only features with minimum contribution"
   ]
  },
  {
   "cell_type": "code",
   "execution_count": 412,
   "metadata": {},
   "outputs": [],
   "source": [
    "X = train[['budget', 'budget_year', 'belongs_to_collection', 'Other genre', 'popularity_year', 'Family', 'popularity', 'Adventure', 'lang_fr', 'independent film', 'release_year', 'release_month_10', 'US', 'Crime', 'IN', 'release_month_7', 'release_month_9', 'Universal Pictures', 'CA', 'runtime', 'release_month_8', 'runtime_year', 'DE', 'release_month_2', 'Comedy', 'Animation', 'release_month_5', 'Drama', 'GB', 'police', 'love', 'suspense', 'woman director', 'lang_en', 'Thriller', 'Other Company', 'Other Country', 'release_month_6', 'FR', 'female_lead', 'male_lead', 'Documentary', 'Action', 'JP', 'release_month_1', 'teenager', 'duringcreditsstinger', 'Twentieth Century Fox Film Corporation', 'Romance', 'has_homepage', 'release_month_11', 'based on novel', 'Horror', 'Science Fiction', 'Metro-Goldwyn-Mayer (MGM)', 'release_month_4', 'New Line Cinema', 'release_month_3', 'Walt Disney Pictures', 'Warner Bros.', 'Columbia Pictures', 'Paramount Pictures', 'Fantasy', 'friendship', 'Mystery', 'RU', 'Music', 'War', 'release_month_12', 'sport', 'female nudity', 'murder', 'dystopia', 'History', 'violence', 'Columbia Pictures Corporation']]\n",
    "y = train['revenue']\n",
    "\n",
    "data_dmatrix = xgb.DMatrix(data=X,label=y)\n",
    "\n",
    "X_train, X_test, y_train, y_test = train_test_split(X, y, test_size=0.3, random_state=101)"
   ]
  },
  {
   "cell_type": "markdown",
   "metadata": {},
   "source": [
    "## Hyper-parameters tuning:"
   ]
  },
  {
   "cell_type": "code",
   "execution_count": 449,
   "metadata": {},
   "outputs": [
    {
     "name": "stdout",
     "output_type": "stream",
     "text": [
      "Fitting 3 folds for each of 6 candidates, totalling 18 fits\n"
     ]
    },
    {
     "name": "stderr",
     "output_type": "stream",
     "text": [
      "[Parallel(n_jobs=3)]: Using backend LokyBackend with 3 concurrent workers.\n",
      "[Parallel(n_jobs=3)]: Done  18 out of  18 | elapsed:   14.0s finished\n"
     ]
    },
    {
     "data": {
      "text/plain": [
       "RandomizedSearchCV(cv=<generator object _BaseKFold.split at 0x00000000297843C8>,\n",
       "                   error_score=nan,\n",
       "                   estimator=XGBRegressor(base_score=None, booster=None,\n",
       "                                          colsample_bylevel=None,\n",
       "                                          colsample_bynode=None,\n",
       "                                          colsample_bytree=None, gamma=None,\n",
       "                                          gpu_id=None, importance_type='gain',\n",
       "                                          interaction_constraints=None,\n",
       "                                          learning_rate=None,\n",
       "                                          max_delta_step=None, max_depth=None,\n",
       "                                          min_child_...\n",
       "                                          verbosity=None),\n",
       "                   iid='deprecated', n_iter=6, n_jobs=3,\n",
       "                   param_distributions={'colsample_bytree': [0.6, 0.8, 1.0],\n",
       "                                        'gamma': [0.5, 1, 1.5, 2, 5],\n",
       "                                        'learning_rate': [0.01, 0.02, 0.05],\n",
       "                                        'max_depth': [3, 4, 5, 6],\n",
       "                                        'min_child_weight': [1, 5, 9],\n",
       "                                        'subsample': [0.6, 0.8, 1.0]},\n",
       "                   pre_dispatch='2*n_jobs', random_state=1001, refit=True,\n",
       "                   return_train_score=False, scoring='neg_mean_squared_error',\n",
       "                   verbose=3)"
      ]
     },
     "execution_count": 449,
     "metadata": {},
     "output_type": "execute_result"
    }
   ],
   "source": [
    "from xgboost import XGBRegressor\n",
    "from sklearn.model_selection import RandomizedSearchCV, GridSearchCV\n",
    "from sklearn.model_selection import KFold\n",
    "\n",
    "params = {\n",
    "        'min_child_weight': [1, 5, 9],\n",
    "        'gamma': [0.5, 1, 1.5, 2, 5],\n",
    "        'subsample': [0.6, 0.8, 1.0],\n",
    "        'colsample_bytree': [0.6, 0.8, 1.0],\n",
    "        'max_depth': [3, 4, 5, 6],\n",
    "        'learning_rate': [0.01, 0.02, 0.05]\n",
    "        }\n",
    "\n",
    "model = XGBRegressor(n_estimators=500, objective='reg:squarederror',silent=True, nthread=1)\n",
    "\n",
    "folds = 3\n",
    "param_comb = 6\n",
    "skf = KFold(n_splits=folds, shuffle = True, random_state = 1001)\n",
    "\n",
    "random_search = RandomizedSearchCV(model, param_distributions=params, n_iter=param_comb, scoring='neg_mean_squared_error', n_jobs=3, cv=skf.split(X_train,y_train), verbose=3, random_state=1001 )\n",
    "\n",
    "random_search.fit(X_train, y_train)"
   ]
  },
  {
   "cell_type": "code",
   "execution_count": 450,
   "metadata": {},
   "outputs": [
    {
     "name": "stdout",
     "output_type": "stream",
     "text": [
      "\n",
      " Best estimator:\n",
      "XGBRegressor(base_score=0.5, booster=None, colsample_bylevel=1,\n",
      "             colsample_bynode=1, colsample_bytree=0.6, gamma=1.5, gpu_id=-1,\n",
      "             importance_type='gain', interaction_constraints=None,\n",
      "             learning_rate=0.02, max_delta_step=0, max_depth=6,\n",
      "             min_child_weight=9, missing=nan, monotone_constraints=None,\n",
      "             n_estimators=500, n_jobs=1, nthread=1, num_parallel_tree=1,\n",
      "             objective='reg:squarederror', random_state=0, reg_alpha=0,\n",
      "             reg_lambda=1, scale_pos_weight=1, silent=True, subsample=0.8,\n",
      "             tree_method=None, validate_parameters=False, verbosity=None)\n",
      "\n",
      " Best hyperparameters:\n",
      "{'subsample': 0.8, 'min_child_weight': 9, 'max_depth': 6, 'learning_rate': 0.02, 'gamma': 1.5, 'colsample_bytree': 0.6}\n"
     ]
    }
   ],
   "source": [
    "print('\\n Best estimator:')\n",
    "print(random_search.best_estimator_)\n",
    "print('\\n Best hyperparameters:')\n",
    "print(random_search.best_params_)"
   ]
  },
  {
   "cell_type": "code",
   "execution_count": 451,
   "metadata": {},
   "outputs": [
    {
     "name": "stdout",
     "output_type": "stream",
     "text": [
      "score:  0.5096862800796532\n",
      "RMSE:  2.233629515345341\n"
     ]
    }
   ],
   "source": [
    "from xgboost import XGBRegressor\n",
    "from sklearn.metrics import mean_squared_error\n",
    "\n",
    "model = XGBRegressor(learning_rate=0.02, n_estimators=500, objective='reg:squarederror',\n",
    "                    subsample= 0.8, min_child_weight=9, max_depth=6, gamma=1.5, colsample_bytree=0.6)\n",
    "\n",
    "model.fit(X_train,y_train)\n",
    "predictions = model.predict(X_test)\n",
    "\n",
    "print('score: ', model.score(X_test,y_test))\n",
    "\n",
    "predictions[predictions < 0] = 0\n",
    "print('RMSE: ', np.sqrt(mean_squared_error(y_test, predictions)))"
   ]
  },
  {
   "cell_type": "markdown",
   "metadata": {},
   "source": [
    "## Cross Validation"
   ]
  },
  {
   "cell_type": "code",
   "execution_count": 452,
   "metadata": {},
   "outputs": [
    {
     "name": "stdout",
     "output_type": "stream",
     "text": [
      "Cross-validation scores: [2.21624267 2.15513378 1.77823385 2.08791361 2.2481132 ]\n",
      "Mean cross-validation score: 2.097\n",
      "Std cross-validation score: 0.169\n"
     ]
    }
   ],
   "source": [
    "from sklearn.model_selection import cross_val_score\n",
    "\n",
    "cv_scores = -cross_val_score(model, X_train, y_train, cv=5, scoring='neg_root_mean_squared_error')\n",
    "\n",
    "print('Cross-validation scores:', cv_scores)\n",
    "print('Mean cross-validation score: {:.3f}'.format(np.mean(cv_scores)))\n",
    "print('Std cross-validation score: {:.3f}'.format(np.std(cv_scores)))"
   ]
  },
  {
   "cell_type": "code",
   "execution_count": null,
   "metadata": {},
   "outputs": [],
   "source": []
  }
 ],
 "metadata": {
  "kernelspec": {
   "display_name": "Python 3",
   "language": "python",
   "name": "python3"
  },
  "language_info": {
   "codemirror_mode": {
    "name": "ipython",
    "version": 3
   },
   "file_extension": ".py",
   "mimetype": "text/x-python",
   "name": "python",
   "nbconvert_exporter": "python",
   "pygments_lexer": "ipython3",
   "version": "3.7.6"
  }
 },
 "nbformat": 4,
 "nbformat_minor": 4
}
